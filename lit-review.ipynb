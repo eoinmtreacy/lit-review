{
 "cells": [
  {
   "cell_type": "code",
   "execution_count": 53,
   "metadata": {},
   "outputs": [],
   "source": [
    "import random\n",
    "random.seed(42)\n",
    "from collections import deque"
   ]
  },
  {
   "cell_type": "markdown",
   "metadata": {},
   "source": [
    "# Lit 🔥 Review Visualiser"
   ]
  },
  {
   "cell_type": "markdown",
   "metadata": {},
   "source": [
    "# THE PAPER IS THE GRAPH"
   ]
  },
  {
   "cell_type": "markdown",
   "metadata": {},
   "source": [
    "what does that mean? Welllll a Paper is an inherenetly recursive object in the real world, it has references which are papers which have references which are papers... "
   ]
  },
  {
   "cell_type": "markdown",
   "metadata": {},
   "source": [
    "So the object that we create to represent a Paper needs to represent this property, however we need to add a base case (a depth at which we no longer care about the references)"
   ]
  },
  {
   "cell_type": "markdown",
   "metadata": {},
   "source": [
    "The real world has no recursion depth limits but python does"
   ]
  },
  {
   "cell_type": "code",
   "execution_count": 58,
   "metadata": {},
   "outputs": [],
   "source": [
    "class Paper:\n",
    "\n",
    "    def __init__(self, name = 0, distance = 0):\n",
    "        \"\"\"this constructor is recursive, eaech Paper create \n",
    "        a list of Papers that it references\"\"\"\n",
    "        self.__name = name\n",
    "        self.__distance = distance\n",
    "        self.__references = self.create_references()\n",
    "\n",
    "    def create_references(self):\n",
    "        # return an empty list if we have exceeded relevant depth\n",
    "        if self.get_distance() > 3:\n",
    "            return []\n",
    "        # otherwise, return a list of Paper objects, their distance set to this paper's distance + 1\n",
    "        return [Paper(self.get_name() - n, self.get_distance() + 1) for n in range(1, 6)]\n",
    "    \n",
    "    def find_distance(self, name):\n",
    "        queue = deque([(self, 0)])  # the queue will hold tuples of (paper, distance)\n",
    "        while queue:\n",
    "            paper, distance = queue.popleft()  # Dequeue a paper\n",
    "\n",
    "            # if the target paper is this paper return the distance\n",
    "            if name == paper.get_name():\n",
    "                return distance\n",
    "            \n",
    "            # if the target paper is found in a paper's references, return the distance + 1\n",
    "            elif name in [reference.get_name() for reference in paper.get_references()]:\n",
    "                    print(f\"Found {name} in {paper.get_name()}'s references\")\n",
    "                    return distance + 1\n",
    "            else:\n",
    "                # add all the paper's references to the queue with a distance of distance + 1\n",
    "                for reference in paper.get_references():\n",
    "                    queue.append((reference, distance + 1))\n",
    "\n",
    "        # if the queue is empty and the paper hasn't been found, return infinity\n",
    "        return float('inf')\n",
    "    \n",
    "    def get_edges(self, name):\n",
    "        # NOTE can you think of good stop case?\n",
    "        # i.e. a natural time to stop the recursion?\n",
    "        if self.get_name() == name:\n",
    "            return 1\n",
    "        else:\n",
    "            return sum([reference.get_edges(name) for reference in self.get_references()])\n",
    "        \n",
    "    \n",
    "    def get_name(self):\n",
    "        return self.__name\n",
    "    \n",
    "    def get_distance(self):\n",
    "        return self.__distance\n",
    "\n",
    "    def get_references(self):\n",
    "        return self.__references\n",
    "\n",
    "    def __repr__(self):\n",
    "        return f\"{self.get_name()}: {self.get_references()}\""
   ]
  },
  {
   "cell_type": "code",
   "execution_count": 59,
   "metadata": {},
   "outputs": [],
   "source": [
    "paper = Paper(2024)"
   ]
  },
  {
   "cell_type": "code",
   "execution_count": 63,
   "metadata": {},
   "outputs": [
    {
     "data": {
      "text/plain": [
       "71"
      ]
     },
     "execution_count": 63,
     "metadata": {},
     "output_type": "execute_result"
    }
   ],
   "source": [
    "paper.get_edges(2010)"
   ]
  },
  {
   "cell_type": "code",
   "execution_count": 3,
   "metadata": {},
   "outputs": [
    {
     "data": {
      "text/plain": [
       "[2023: [2022: [2021: [2020: [], 2019: [], 2018: [], 2017: [], 2016: []], 2020: [2019: [], 2018: [], 2017: [], 2016: [], 2015: []], 2019: [2018: [], 2017: [], 2016: [], 2015: [], 2014: []], 2018: [2017: [], 2016: [], 2015: [], 2014: [], 2013: []], 2017: [2016: [], 2015: [], 2014: [], 2013: [], 2012: []]], 2021: [2020: [2019: [], 2018: [], 2017: [], 2016: [], 2015: []], 2019: [2018: [], 2017: [], 2016: [], 2015: [], 2014: []], 2018: [2017: [], 2016: [], 2015: [], 2014: [], 2013: []], 2017: [2016: [], 2015: [], 2014: [], 2013: [], 2012: []], 2016: [2015: [], 2014: [], 2013: [], 2012: [], 2011: []]], 2020: [2019: [2018: [], 2017: [], 2016: [], 2015: [], 2014: []], 2018: [2017: [], 2016: [], 2015: [], 2014: [], 2013: []], 2017: [2016: [], 2015: [], 2014: [], 2013: [], 2012: []], 2016: [2015: [], 2014: [], 2013: [], 2012: [], 2011: []], 2015: [2014: [], 2013: [], 2012: [], 2011: [], 2010: []]], 2019: [2018: [2017: [], 2016: [], 2015: [], 2014: [], 2013: []], 2017: [2016: [], 2015: [], 2014: [], 2013: [], 2012: []], 2016: [2015: [], 2014: [], 2013: [], 2012: [], 2011: []], 2015: [2014: [], 2013: [], 2012: [], 2011: [], 2010: []], 2014: [2013: [], 2012: [], 2011: [], 2010: [], 2009: []]], 2018: [2017: [2016: [], 2015: [], 2014: [], 2013: [], 2012: []], 2016: [2015: [], 2014: [], 2013: [], 2012: [], 2011: []], 2015: [2014: [], 2013: [], 2012: [], 2011: [], 2010: []], 2014: [2013: [], 2012: [], 2011: [], 2010: [], 2009: []], 2013: [2012: [], 2011: [], 2010: [], 2009: [], 2008: []]]],\n",
       " 2022: [2021: [2020: [2019: [], 2018: [], 2017: [], 2016: [], 2015: []], 2019: [2018: [], 2017: [], 2016: [], 2015: [], 2014: []], 2018: [2017: [], 2016: [], 2015: [], 2014: [], 2013: []], 2017: [2016: [], 2015: [], 2014: [], 2013: [], 2012: []], 2016: [2015: [], 2014: [], 2013: [], 2012: [], 2011: []]], 2020: [2019: [2018: [], 2017: [], 2016: [], 2015: [], 2014: []], 2018: [2017: [], 2016: [], 2015: [], 2014: [], 2013: []], 2017: [2016: [], 2015: [], 2014: [], 2013: [], 2012: []], 2016: [2015: [], 2014: [], 2013: [], 2012: [], 2011: []], 2015: [2014: [], 2013: [], 2012: [], 2011: [], 2010: []]], 2019: [2018: [2017: [], 2016: [], 2015: [], 2014: [], 2013: []], 2017: [2016: [], 2015: [], 2014: [], 2013: [], 2012: []], 2016: [2015: [], 2014: [], 2013: [], 2012: [], 2011: []], 2015: [2014: [], 2013: [], 2012: [], 2011: [], 2010: []], 2014: [2013: [], 2012: [], 2011: [], 2010: [], 2009: []]], 2018: [2017: [2016: [], 2015: [], 2014: [], 2013: [], 2012: []], 2016: [2015: [], 2014: [], 2013: [], 2012: [], 2011: []], 2015: [2014: [], 2013: [], 2012: [], 2011: [], 2010: []], 2014: [2013: [], 2012: [], 2011: [], 2010: [], 2009: []], 2013: [2012: [], 2011: [], 2010: [], 2009: [], 2008: []]], 2017: [2016: [2015: [], 2014: [], 2013: [], 2012: [], 2011: []], 2015: [2014: [], 2013: [], 2012: [], 2011: [], 2010: []], 2014: [2013: [], 2012: [], 2011: [], 2010: [], 2009: []], 2013: [2012: [], 2011: [], 2010: [], 2009: [], 2008: []], 2012: [2011: [], 2010: [], 2009: [], 2008: [], 2007: []]]],\n",
       " 2021: [2020: [2019: [2018: [], 2017: [], 2016: [], 2015: [], 2014: []], 2018: [2017: [], 2016: [], 2015: [], 2014: [], 2013: []], 2017: [2016: [], 2015: [], 2014: [], 2013: [], 2012: []], 2016: [2015: [], 2014: [], 2013: [], 2012: [], 2011: []], 2015: [2014: [], 2013: [], 2012: [], 2011: [], 2010: []]], 2019: [2018: [2017: [], 2016: [], 2015: [], 2014: [], 2013: []], 2017: [2016: [], 2015: [], 2014: [], 2013: [], 2012: []], 2016: [2015: [], 2014: [], 2013: [], 2012: [], 2011: []], 2015: [2014: [], 2013: [], 2012: [], 2011: [], 2010: []], 2014: [2013: [], 2012: [], 2011: [], 2010: [], 2009: []]], 2018: [2017: [2016: [], 2015: [], 2014: [], 2013: [], 2012: []], 2016: [2015: [], 2014: [], 2013: [], 2012: [], 2011: []], 2015: [2014: [], 2013: [], 2012: [], 2011: [], 2010: []], 2014: [2013: [], 2012: [], 2011: [], 2010: [], 2009: []], 2013: [2012: [], 2011: [], 2010: [], 2009: [], 2008: []]], 2017: [2016: [2015: [], 2014: [], 2013: [], 2012: [], 2011: []], 2015: [2014: [], 2013: [], 2012: [], 2011: [], 2010: []], 2014: [2013: [], 2012: [], 2011: [], 2010: [], 2009: []], 2013: [2012: [], 2011: [], 2010: [], 2009: [], 2008: []], 2012: [2011: [], 2010: [], 2009: [], 2008: [], 2007: []]], 2016: [2015: [2014: [], 2013: [], 2012: [], 2011: [], 2010: []], 2014: [2013: [], 2012: [], 2011: [], 2010: [], 2009: []], 2013: [2012: [], 2011: [], 2010: [], 2009: [], 2008: []], 2012: [2011: [], 2010: [], 2009: [], 2008: [], 2007: []], 2011: [2010: [], 2009: [], 2008: [], 2007: [], 2006: []]]],\n",
       " 2020: [2019: [2018: [2017: [], 2016: [], 2015: [], 2014: [], 2013: []], 2017: [2016: [], 2015: [], 2014: [], 2013: [], 2012: []], 2016: [2015: [], 2014: [], 2013: [], 2012: [], 2011: []], 2015: [2014: [], 2013: [], 2012: [], 2011: [], 2010: []], 2014: [2013: [], 2012: [], 2011: [], 2010: [], 2009: []]], 2018: [2017: [2016: [], 2015: [], 2014: [], 2013: [], 2012: []], 2016: [2015: [], 2014: [], 2013: [], 2012: [], 2011: []], 2015: [2014: [], 2013: [], 2012: [], 2011: [], 2010: []], 2014: [2013: [], 2012: [], 2011: [], 2010: [], 2009: []], 2013: [2012: [], 2011: [], 2010: [], 2009: [], 2008: []]], 2017: [2016: [2015: [], 2014: [], 2013: [], 2012: [], 2011: []], 2015: [2014: [], 2013: [], 2012: [], 2011: [], 2010: []], 2014: [2013: [], 2012: [], 2011: [], 2010: [], 2009: []], 2013: [2012: [], 2011: [], 2010: [], 2009: [], 2008: []], 2012: [2011: [], 2010: [], 2009: [], 2008: [], 2007: []]], 2016: [2015: [2014: [], 2013: [], 2012: [], 2011: [], 2010: []], 2014: [2013: [], 2012: [], 2011: [], 2010: [], 2009: []], 2013: [2012: [], 2011: [], 2010: [], 2009: [], 2008: []], 2012: [2011: [], 2010: [], 2009: [], 2008: [], 2007: []], 2011: [2010: [], 2009: [], 2008: [], 2007: [], 2006: []]], 2015: [2014: [2013: [], 2012: [], 2011: [], 2010: [], 2009: []], 2013: [2012: [], 2011: [], 2010: [], 2009: [], 2008: []], 2012: [2011: [], 2010: [], 2009: [], 2008: [], 2007: []], 2011: [2010: [], 2009: [], 2008: [], 2007: [], 2006: []], 2010: [2009: [], 2008: [], 2007: [], 2006: [], 2005: []]]],\n",
       " 2019: [2018: [2017: [2016: [], 2015: [], 2014: [], 2013: [], 2012: []], 2016: [2015: [], 2014: [], 2013: [], 2012: [], 2011: []], 2015: [2014: [], 2013: [], 2012: [], 2011: [], 2010: []], 2014: [2013: [], 2012: [], 2011: [], 2010: [], 2009: []], 2013: [2012: [], 2011: [], 2010: [], 2009: [], 2008: []]], 2017: [2016: [2015: [], 2014: [], 2013: [], 2012: [], 2011: []], 2015: [2014: [], 2013: [], 2012: [], 2011: [], 2010: []], 2014: [2013: [], 2012: [], 2011: [], 2010: [], 2009: []], 2013: [2012: [], 2011: [], 2010: [], 2009: [], 2008: []], 2012: [2011: [], 2010: [], 2009: [], 2008: [], 2007: []]], 2016: [2015: [2014: [], 2013: [], 2012: [], 2011: [], 2010: []], 2014: [2013: [], 2012: [], 2011: [], 2010: [], 2009: []], 2013: [2012: [], 2011: [], 2010: [], 2009: [], 2008: []], 2012: [2011: [], 2010: [], 2009: [], 2008: [], 2007: []], 2011: [2010: [], 2009: [], 2008: [], 2007: [], 2006: []]], 2015: [2014: [2013: [], 2012: [], 2011: [], 2010: [], 2009: []], 2013: [2012: [], 2011: [], 2010: [], 2009: [], 2008: []], 2012: [2011: [], 2010: [], 2009: [], 2008: [], 2007: []], 2011: [2010: [], 2009: [], 2008: [], 2007: [], 2006: []], 2010: [2009: [], 2008: [], 2007: [], 2006: [], 2005: []]], 2014: [2013: [2012: [], 2011: [], 2010: [], 2009: [], 2008: []], 2012: [2011: [], 2010: [], 2009: [], 2008: [], 2007: []], 2011: [2010: [], 2009: [], 2008: [], 2007: [], 2006: []], 2010: [2009: [], 2008: [], 2007: [], 2006: [], 2005: []], 2009: [2008: [], 2007: [], 2006: [], 2005: [], 2004: []]]]]"
      ]
     },
     "execution_count": 3,
     "metadata": {},
     "output_type": "execute_result"
    }
   ],
   "source": [
    "paper.get_references()"
   ]
  },
  {
   "cell_type": "markdown",
   "metadata": {},
   "source": [
    "`find_distance()` returns the shortest distance found from one Paper to another"
   ]
  },
  {
   "cell_type": "code",
   "execution_count": 70,
   "metadata": {},
   "outputs": [
    {
     "data": {
      "text/plain": [
       "0"
      ]
     },
     "execution_count": 70,
     "metadata": {},
     "output_type": "execute_result"
    }
   ],
   "source": [
    "paper.find_distance(2024)"
   ]
  },
  {
   "cell_type": "markdown",
   "metadata": {},
   "source": [
    "Distance from the paper to itself is 0"
   ]
  },
  {
   "cell_type": "code",
   "execution_count": 71,
   "metadata": {},
   "outputs": [
    {
     "name": "stdout",
     "output_type": "stream",
     "text": [
      "Found 2020 in 2024's references\n"
     ]
    },
    {
     "data": {
      "text/plain": [
       "1"
      ]
     },
     "execution_count": 71,
     "metadata": {},
     "output_type": "execute_result"
    }
   ],
   "source": [
    "paper.find_distance(2020)"
   ]
  },
  {
   "cell_type": "code",
   "execution_count": 72,
   "metadata": {},
   "outputs": [
    {
     "name": "stdout",
     "output_type": "stream",
     "text": [
      "Found 2022 in 2024's references\n"
     ]
    },
    {
     "data": {
      "text/plain": [
       "1"
      ]
     },
     "execution_count": 72,
     "metadata": {},
     "output_type": "execute_result"
    }
   ],
   "source": [
    "paper.find_distance(2022)"
   ]
  },
  {
   "cell_type": "markdown",
   "metadata": {},
   "source": [
    "The search is implemented breadth-first: you can see 2022 in 2023's references above, but we check all the references of a given paper _before_ we check _its_ references"
   ]
  },
  {
   "cell_type": "markdown",
   "metadata": {},
   "source": [
    "Attempting to find the distance to a paper that isn't referenced will return `inf`, in other words, not in the references"
   ]
  },
  {
   "cell_type": "code",
   "execution_count": 75,
   "metadata": {},
   "outputs": [
    {
     "data": {
      "text/plain": [
       "inf"
      ]
     },
     "execution_count": 75,
     "metadata": {},
     "output_type": "execute_result"
    }
   ],
   "source": [
    "paper.find_distance(2025)"
   ]
  },
  {
   "cell_type": "code",
   "execution_count": 76,
   "metadata": {},
   "outputs": [
    {
     "data": {
      "text/plain": [
       "inf"
      ]
     },
     "execution_count": 76,
     "metadata": {},
     "output_type": "execute_result"
    }
   ],
   "source": [
    "paper.find_distance(1997)"
   ]
  },
  {
   "cell_type": "markdown",
   "metadata": {},
   "source": [
    "## Testing"
   ]
  },
  {
   "cell_type": "markdown",
   "metadata": {},
   "source": []
  }
 ],
 "metadata": {
  "kernelspec": {
   "display_name": "alg-ass-group",
   "language": "python",
   "name": "python3"
  },
  "language_info": {
   "codemirror_mode": {
    "name": "ipython",
    "version": 3
   },
   "file_extension": ".py",
   "mimetype": "text/x-python",
   "name": "python",
   "nbconvert_exporter": "python",
   "pygments_lexer": "ipython3",
   "version": "3.11.5"
  }
 },
 "nbformat": 4,
 "nbformat_minor": 2
}
