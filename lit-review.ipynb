{
 "cells": [
  {
   "cell_type": "code",
   "execution_count": 144,
   "metadata": {},
   "outputs": [],
   "source": [
    "import random\n",
    "random.seed(42)"
   ]
  },
  {
   "cell_type": "markdown",
   "metadata": {},
   "source": [
    "# Lit 🔥 Review Visualiser"
   ]
  },
  {
   "cell_type": "markdown",
   "metadata": {},
   "source": [
    "### team notes\n",
    "Below is a basic outline of our data structure, a directed graph"
   ]
  },
  {
   "cell_type": "markdown",
   "metadata": {},
   "source": [
    "It's heavily commented (some of which won't make it to submission) to keep it as clear as possible"
   ]
  },
  {
   "cell_type": "markdown",
   "metadata": {},
   "source": [
    "Shout if anything is confusing and we'll figure it out, or if I've misinterpreted any of the decisions we made the first time we talked about it "
   ]
  },
  {
   "cell_type": "markdown",
   "metadata": {},
   "source": [
    "## Data Structure"
   ]
  },
  {
   "cell_type": "markdown",
   "metadata": {},
   "source": [
    "### note on classes\n",
    "this is just for clarity, won't make the final report"
   ]
  },
  {
   "cell_type": "markdown",
   "metadata": {},
   "source": [
    "We _could_ represent the graph without declaring a new class, but this will keep things cleaner for us in the long run"
   ]
  },
  {
   "cell_type": "markdown",
   "metadata": {},
   "source": [
    "The alternative would probably to create a dictionary of lists, that would look a little like this"
   ]
  },
  {
   "cell_type": "code",
   "execution_count": 128,
   "metadata": {},
   "outputs": [],
   "source": [
    "graph = {\n",
    "    'adjacency_list': [[], [], []], # what nodes are connected to what nodes, every node would have it's own list\n",
    "    'node': [1, 69, 420] # just a list of all the nodes\n",
    "}"
   ]
  },
  {
   "cell_type": "markdown",
   "metadata": {},
   "source": [
    "We would then have to define functions to add/get nodes and edges anyway, for example:"
   ]
  },
  {
   "cell_type": "code",
   "execution_count": 129,
   "metadata": {},
   "outputs": [],
   "source": [
    "def add_node(graph, x):\n",
    "    graph['adjacency_list'].append([])\n",
    "    graph['nodles'].append(x)"
   ]
  },
  {
   "cell_type": "markdown",
   "metadata": {},
   "source": [
    "And then to _get_ a node, it would pass the index, much like the method in the class"
   ]
  },
  {
   "cell_type": "code",
   "execution_count": 130,
   "metadata": {},
   "outputs": [],
   "source": [
    "def get_node(graph, index):\n",
    "    return graph['nodes'][index]"
   ]
  },
  {
   "cell_type": "markdown",
   "metadata": {},
   "source": [
    "When you see *self* as one of the variables in the below class method, that just means we want to act on itself, so it saves us having to pass the `graph` variable to every function we all"
   ]
  },
  {
   "cell_type": "markdown",
   "metadata": {},
   "source": [
    "# THE PAPER IS THE GRAPH"
   ]
  },
  {
   "cell_type": "markdown",
   "metadata": {},
   "source": [
    "what does that mean? Welllll a Paper is an inherenetly recursive object in the real world, it has references which are papers which have references which are papers... "
   ]
  },
  {
   "cell_type": "markdown",
   "metadata": {},
   "source": [
    "So the object that we create to represent a Paper needs to represent this property, however we need to add a base case (a depth at which we no longer care about the references)"
   ]
  },
  {
   "cell_type": "markdown",
   "metadata": {},
   "source": [
    "The real world has no recursion depth limits but python does"
   ]
  },
  {
   "cell_type": "markdown",
   "metadata": {},
   "source": [
    "So let's try again and create a different Paper class"
   ]
  },
  {
   "cell_type": "code",
   "execution_count": 149,
   "metadata": {},
   "outputs": [],
   "source": [
    "class Paper:\n",
    "\n",
    "    def __init__(self, name = 0, distance = 0):\n",
    "        \"\"\"this constructor is recursive, eaech Paper create \n",
    "        a list of Papers that it references\"\"\"\n",
    "        self.__name = name\n",
    "        self.__distance = distance\n",
    "        self.__references = self.create_references()\n",
    "\n",
    "    def create_references(self):\n",
    "        # return an empty list if we have exceeded relevant depth\n",
    "        if self.get_distance() > 3:\n",
    "            return []\n",
    "        # otherwise, return a list of Paper objects\n",
    "        return [Paper(random.randint(1, 10) * n, self.get_distance() + 1) for n in range(1, 6)]\n",
    "\n",
    "    def get_name(self):\n",
    "        return self.__name\n",
    "    \n",
    "    def get_distance(self):\n",
    "        return self.__distance\n",
    "\n",
    "    def find_distance(self, name=0, distance=0, min_distance=float('inf')):\n",
    "        # if name target paper == this paper, return its distance\n",
    "        if name == self.get_name():\n",
    "            min_distance = min(min_distance, self.get_distance())\n",
    "\n",
    "        # else check all the Paper's references\n",
    "        for paper in self.get_references():\n",
    "\n",
    "            # call find_distance for each paper and pass on the minimum distance\n",
    "            dist = paper.find_distance(name, distance + 1, min_distance)\n",
    "\n",
    "            # if the paper is found, check if it's the new minimum distance\n",
    "            if dist is not None:\n",
    "                min_distance = min(min_distance, dist)\n",
    "\n",
    "        # return min_distance after ALL Papers have been checked\n",
    "        return min_distance\n",
    "\n",
    "    def get_references(self):\n",
    "        return self.__references\n",
    "\n",
    "    def __repr__(self):\n",
    "        return f\"{self.get_name()}: {self.get_references()}\""
   ]
  },
  {
   "cell_type": "code",
   "execution_count": 145,
   "metadata": {},
   "outputs": [],
   "source": [
    "paper = Paper()"
   ]
  },
  {
   "cell_type": "code",
   "execution_count": 146,
   "metadata": {},
   "outputs": [
    {
     "data": {
      "text/plain": [
       "[2: [1: [5: [4: [], 8: [], 9: [], 8: [], 45: []], 4: [10: [], 14: [], 3: [], 4: [], 10: []], 12: [4: [], 18: [], 30: [], 4: [], 45: []], 16: [9: [], 14: [], 12: [], 32: [], 50: []], 25: [1: [], 6: [], 21: [], 24: [], 25: []]], 6: [4: [6: [], 4: [], 6: [], 28: [], 10: []], 12: [6: [], 20: [], 15: [], 4: [], 40: []], 27: [2: [], 14: [], 6: [], 36: [], 25: []], 40: [6: [], 20: [], 12: [], 8: [], 5: []], 20: [5: [], 4: [], 12: [], 8: [], 35: []]], 15: [8: [6: [], 6: [], 18: [], 24: [], 20: []], 10: [2: [], 20: [], 9: [], 36: [], 20: []], 9: [8: [], 14: [], 15: [], 36: [], 20: []], 24: [1: [], 8: [], 3: [], 24: [], 35: []], 25: [2: [], 8: [], 30: [], 24: [], 20: []]], 32: [7: [8: [], 6: [], 15: [], 12: [], 20: []], 18: [9: [], 10: [], 30: [], 28: [], 50: []], 21: [6: [], 8: [], 9: [], 36: [], 40: []], 8: [1: [], 4: [], 9: [], 12: [], 35: []], 50: [2: [], 14: [], 21: [], 40: [], 40: []]], 45: [5: [9: [], 2: [], 6: [], 36: [], 25: []], 12: [2: [], 10: [], 21: [], 12: [], 40: []], 3: [5: [], 18: [], 9: [], 36: [], 10: []], 20: [9: [], 20: [], 12: [], 12: [], 30: []], 15: [9: [], 18: [], 3: [], 40: [], 30: []]]],\n",
       " 16: [1: [2: [6: [], 10: [], 12: [], 4: [], 20: []], 20: [2: [], 4: [], 24: [], 8: [], 45: []], 9: [3: [], 16: [], 27: [], 12: [], 25: []], 36: [10: [], 14: [], 12: [], 36: [], 20: []], 25: [7: [], 12: [], 24: [], 36: [], 40: []]], 4: [4: [4: [], 4: [], 18: [], 4: [], 50: []], 18: [4: [], 20: [], 12: [], 4: [], 10: []], 3: [4: [], 4: [], 3: [], 24: [], 10: []], 36: [4: [], 10: [], 24: [], 16: [], 45: []], 15: [10: [], 20: [], 24: [], 16: [], 40: []]], 21: [4: [2: [], 4: [], 21: [], 24: [], 35: []], 14: [8: [], 2: [], 6: [], 4: [], 35: []], 18: [2: [], 8: [], 12: [], 16: [], 45: []], 32: [3: [], 14: [], 9: [], 20: [], 40: []], 20: [2: [], 16: [], 27: [], 8: [], 5: []]], 36: [1: [2: [], 8: [], 9: [], 28: [], 40: []], 16: [4: [], 14: [], 3: [], 12: [], 35: []], 3: [7: [], 10: [], 24: [], 20: [], 35: []], 36: [8: [], 6: [], 12: [], 20: [], 20: []], 5: [10: [], 18: [], 3: [], 24: [], 5: []]], 5: [10: [8: [], 18: [], 27: [], 12: [], 5: []], 18: [2: [], 6: [], 6: [], 40: [], 10: []], 12: [7: [], 4: [], 30: [], 16: [], 50: []], 40: [1: [], 20: [], 6: [], 28: [], 50: []], 50: [9: [], 12: [], 15: [], 16: [], 30: []]]],\n",
       " 12: [5: [7: [3: [], 10: [], 24: [], 24: [], 10: []], 2: [8: [], 20: [], 30: [], 8: [], 10: []], 27: [4: [], 18: [], 15: [], 12: [], 30: []], 8: [4: [], 12: [], 15: [], 12: [], 40: []], 45: [5: [], 20: [], 27: [], 4: [], 45: []]], 10: [2: [3: [], 10: [], 6: [], 8: [], 45: []], 6: [5: [], 10: [], 30: [], 16: [], 30: []], 12: [5: [], 18: [], 24: [], 20: [], 5: []], 8: [7: [], 10: [], 3: [], 4: [], 30: []], 15: [5: [], 6: [], 24: [], 36: [], 35: []]], 27: [1: [2: [], 4: [], 9: [], 36: [], 5: []], 12: [10: [], 18: [], 9: [], 28: [], 15: []], 3: [5: [], 12: [], 3: [], 24: [], 20: []], 16: [2: [], 12: [], 27: [], 28: [], 50: []], 15: [4: [], 6: [], 9: [], 28: [], 5: []]], 12: [6: [7: [], 8: [], 15: [], 12: [], 10: []], 14: [1: [], 16: [], 12: [], 16: [], 40: []], 18: [5: [], 8: [], 12: [], 4: [], 20: []], 28: [6: [], 10: [], 6: [], 20: [], 30: []], 45: [7: [], 18: [], 18: [], 4: [], 10: []]], 25: [3: [10: [], 10: [], 3: [], 8: [], 50: []], 14: [6: [], 12: [], 21: [], 40: [], 45: []], 6: [7: [], 20: [], 12: [], 20: [], 5: []], 28: [1: [], 18: [], 27: [], 16: [], 30: []], 35: [2: [], 12: [], 30: [], 24: [], 10: []]]],\n",
       " 20: [9: [5: [7: [], 12: [], 21: [], 20: [], 45: []], 6: [4: [], 14: [], 21: [], 12: [], 50: []], 30: [5: [], 14: [], 27: [], 4: [], 25: []], 20: [4: [], 14: [], 30: [], 40: [], 30: []], 40: [8: [], 16: [], 12: [], 36: [], 40: []]], 6: [2: [5: [], 18: [], 30: [], 24: [], 10: []], 8: [5: [], 8: [], 12: [], 12: [], 5: []], 3: [4: [], 16: [], 30: [], 8: [], 40: []], 28: [10: [], 8: [], 21: [], 32: [], 35: []], 20: [3: [], 2: [], 6: [], 28: [], 20: []]], 9: [9: [8: [], 2: [], 27: [], 16: [], 10: []], 16: [3: [], 16: [], 27: [], 36: [], 50: []], 18: [8: [], 20: [], 27: [], 28: [], 45: []], 32: [3: [], 16: [], 24: [], 20: [], 20: []], 25: [9: [], 16: [], 12: [], 20: [], 40: []]], 8: [5: [4: [], 10: [], 18: [], 24: [], 45: []], 4: [3: [], 6: [], 12: [], 28: [], 15: []], 12: [2: [], 14: [], 21: [], 24: [], 45: []], 32: [7: [], 2: [], 12: [], 28: [], 35: []], 50: [1: [], 20: [], 21: [], 32: [], 5: []]], 30: [5: [7: [], 14: [], 27: [], 36: [], 50: []], 8: [8: [], 8: [], 15: [], 28: [], 40: []], 3: [7: [], 12: [], 21: [], 12: [], 40: []], 12: [10: [], 18: [], 3: [], 28: [], 50: []], 50: [1: [], 4: [], 21: [], 12: [], 40: []]]],\n",
       " 15: [1: [5: [7: [], 12: [], 12: [], 32: [], 30: []], 12: [7: [], 10: [], 21: [], 20: [], 10: []], 24: [1: [], 18: [], 3: [], 24: [], 20: []], 8: [1: [], 2: [], 12: [], 16: [], 5: []], 50: [3: [], 8: [], 9: [], 32: [], 10: []]], 20: [4: [8: [], 10: [], 18: [], 12: [], 50: []], 20: [2: [], 6: [], 15: [], 8: [], 50: []], 3: [5: [], 20: [], 21: [], 28: [], 20: []], 8: [10: [], 8: [], 6: [], 20: [], 50: []], 10: [10: [], 2: [], 18: [], 36: [], 35: []]], 18: [2: [9: [], 12: [], 3: [], 28: [], 40: []], 4: [7: [], 12: [], 24: [], 12: [], 35: []], 9: [9: [], 10: [], 30: [], 36: [], 40: []], 32: [7: [], 20: [], 15: [], 24: [], 20: []], 10: [5: [], 16: [], 12: [], 32: [], 50: []]], 40: [7: [6: [], 2: [], 24: [], 24: [], 15: []], 16: [4: [], 12: [], 15: [], 24: [], 25: []], 30: [5: [], 18: [], 3: [], 36: [], 20: []], 8: [4: [], 14: [], 24: [], 36: [], 20: []], 40: [8: [], 16: [], 3: [], 8: [], 25: []]], 20: [7: [4: [], 10: [], 30: [], 24: [], 40: []], 18: [9: [], 12: [], 21: [], 36: [], 30: []], 18: [8: [], 10: [], 15: [], 20: [], 20: []], 8: [4: [], 12: [], 6: [], 36: [], 15: []], 20: [4: [], 16: [], 15: [], 40: [], 45: []]]]]"
      ]
     },
     "execution_count": 146,
     "metadata": {},
     "output_type": "execute_result"
    }
   ],
   "source": [
    "paper.get_references()"
   ]
  },
  {
   "cell_type": "markdown",
   "metadata": {},
   "source": [
    "`find_distance()` returns the shortest distance found from one Paper to another"
   ]
  },
  {
   "cell_type": "markdown",
   "metadata": {},
   "source": [
    "As you can  see above, Paper 2 is referenced directly by `paper` (line 1), "
   ]
  },
  {
   "cell_type": "markdown",
   "metadata": {},
   "source": [
    "but is also referenced by Paper 1, which is referenced by Paper 16, which is a distance of 3 (line 2)"
   ]
  },
  {
   "cell_type": "code",
   "execution_count": 147,
   "metadata": {},
   "outputs": [
    {
     "data": {
      "text/plain": [
       "1"
      ]
     },
     "execution_count": 147,
     "metadata": {},
     "output_type": "execute_result"
    }
   ],
   "source": [
    "paper.find_distance(2)"
   ]
  },
  {
   "cell_type": "markdown",
   "metadata": {},
   "source": [
    "Attempting to find the distance to a paper that isn't referenced will return `inf`, in other words, not in the references"
   ]
  },
  {
   "cell_type": "code",
   "execution_count": 148,
   "metadata": {},
   "outputs": [
    {
     "data": {
      "text/plain": [
       "inf"
      ]
     },
     "execution_count": 148,
     "metadata": {},
     "output_type": "execute_result"
    }
   ],
   "source": [
    "paper.find_distance(12345)"
   ]
  }
 ],
 "metadata": {
  "kernelspec": {
   "display_name": "alg-ass-group",
   "language": "python",
   "name": "python3"
  },
  "language_info": {
   "codemirror_mode": {
    "name": "ipython",
    "version": 3
   },
   "file_extension": ".py",
   "mimetype": "text/x-python",
   "name": "python",
   "nbconvert_exporter": "python",
   "pygments_lexer": "ipython3",
   "version": "3.11.8"
  }
 },
 "nbformat": 4,
 "nbformat_minor": 2
}
