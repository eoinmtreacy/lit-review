{
 "cells": [
  {
   "cell_type": "code",
   "execution_count": 2,
   "metadata": {},
   "outputs": [],
   "source": [
    "import random"
   ]
  },
  {
   "cell_type": "markdown",
   "metadata": {},
   "source": [
    "# Lit 🔥 Review Visualiser"
   ]
  },
  {
   "cell_type": "markdown",
   "metadata": {},
   "source": [
    "### team notes\n",
    "Below is a basic outline of our data structure, a directed graph"
   ]
  },
  {
   "cell_type": "markdown",
   "metadata": {},
   "source": [
    "It's heavily commented (some of which won't make it to submission) to keep it as clear as possible"
   ]
  },
  {
   "cell_type": "markdown",
   "metadata": {},
   "source": [
    "Shout if anything is confusing and we'll figure it out, or if I've misinterpreted any of the decisions we made the first time we talked about it "
   ]
  },
  {
   "cell_type": "markdown",
   "metadata": {},
   "source": [
    "## Data Structure"
   ]
  },
  {
   "cell_type": "markdown",
   "metadata": {},
   "source": [
    "### note on classes\n",
    "this is just for clarity, won't make the final report"
   ]
  },
  {
   "cell_type": "markdown",
   "metadata": {},
   "source": [
    "We _could_ represent the graph without declaring a new class, but this will keep things cleaner for us in the long run"
   ]
  },
  {
   "cell_type": "markdown",
   "metadata": {},
   "source": [
    "The alternative would probably to create a dictionary of lists, that would look a little like this"
   ]
  },
  {
   "cell_type": "code",
   "execution_count": 3,
   "metadata": {},
   "outputs": [],
   "source": [
    "graph = {\n",
    "    'adjacency_list': [[], [], []], # what nodes are connected to what nodes, every node would have it's own list\n",
    "    'node': [1, 69, 420] # just a list of all the nodes\n",
    "}"
   ]
  },
  {
   "cell_type": "markdown",
   "metadata": {},
   "source": [
    "We would then have to define functions to add/get nodes and edges anyway, for example:"
   ]
  },
  {
   "cell_type": "code",
   "execution_count": 4,
   "metadata": {},
   "outputs": [],
   "source": [
    "def add_node(graph, x):\n",
    "    graph['adjacency_list'].append([])\n",
    "    graph['nodles'].append(x)"
   ]
  },
  {
   "cell_type": "markdown",
   "metadata": {},
   "source": [
    "And then to _get_ a node, it would pass the index, much like the method in the class"
   ]
  },
  {
   "cell_type": "code",
   "execution_count": 5,
   "metadata": {},
   "outputs": [],
   "source": [
    "def get_node(graph, index):\n",
    "    return graph['nodes'][index]"
   ]
  },
  {
   "cell_type": "markdown",
   "metadata": {},
   "source": [
    "When you see *self* as one of the variables in the below class method, that just means we want to act on itself, so it saves us having to pass the `graph` variable to every function we all"
   ]
  },
  {
   "cell_type": "markdown",
   "metadata": {},
   "source": [
    "## _Actual_ Data Structure"
   ]
  },
  {
   "cell_type": "markdown",
   "metadata": {},
   "source": [
    "Shout if any of the syntax is confusing"
   ]
  },
  {
   "cell_type": "code",
   "execution_count": 6,
   "metadata": {},
   "outputs": [],
   "source": [
    "class Graph:\n",
    "    \n",
    "    def __init__(self) -> None:\n",
    "        \"\"\"this function will be called when we create a new Graph;\n",
    "        i.e. graph = Graph();\n",
    "        it just initializes two empty lists,\n",
    "        one for each node and one for for all the nodes it is connected to\"\"\"\n",
    "        self.__adjacency_list: list = [] # self.whatever just means that the list is an attribute of the Graph\n",
    "        self.__nodes: list = []\n",
    "\n",
    "    def add_node(self, node) -> None:\n",
    "        \"\"\"this function accepts a node as an argument\n",
    "        and add it to the nodes list, then adds an empty\n",
    "        list to the adjacency_list that we will populate\n",
    "        with the nodes it is connected to\"\"\"\n",
    "        self.__adjacency_list.append([])\n",
    "        self.__nodes.append(node)\n",
    "        \n",
    "    def add_edge(self, nodeX, nodeY) -> None:\n",
    "        \"\"\"this function accepts two nodes, arbitrarily X and Y;\n",
    "        adding nodeY to the adjacency list of nodeX;\n",
    "        NOTE: it won't add nodeX to the adjacency list of nodeY \n",
    "        because in our implementation the graph is directed:\n",
    "        references only go one way\"\"\"\n",
    "        if nodeY not in self.__adjacency_list[nodeY]:  # Ensure unique edges\n",
    "            self.__adjacency_list[nodeX].append(nodeY)\n",
    "        \n",
    "    def neighbours(self, node):\n",
    "        \"\"\"this function just returns the adjacency_list \n",
    "        (all the nodes connected) to any given node as an argument\"\"\"\n",
    "        return self.__my_adjacency_list[node]\n",
    "        \n",
    "    def __str__(self) -> str:\n",
    "        \"\"\"printing, mainly just debuggin, not exciting\"\"\"\n",
    "        out: str = \"\"\n",
    "        for i in range(len(self.__adjacency_list)):\n",
    "            out.append(\"node\", i, \"(\", self.__nodes[i], \") = \", self.__adjacency_list[i])\n",
    "        return out\n",
    "\n",
    "    def get_nodes(self) -> list:\n",
    "        \"\"\"this function just returns all the nodes\"\"\"\n",
    "        return self.__nodes\n",
    "    \n",
    "    def get_adjacency_list(self) -> list[list]:\n",
    "        \"\"\"this function just returns the adjacency list for all the nodes\"\"\"\n",
    "        return self.__adjacency_list"
   ]
  },
  {
   "cell_type": "markdown",
   "metadata": {},
   "source": [
    "This graph doesn't quite serve our purposes just yet"
   ]
  },
  {
   "cell_type": "markdown",
   "metadata": {},
   "source": [
    "From what I remember of what we decided, we wanted to be able to add one node (a paper) to the graph, then for every paper it referenced, at it to the graph"
   ]
  },
  {
   "cell_type": "markdown",
   "metadata": {},
   "source": [
    "The for each of the new nodes added, add their references (nodes) to the graph as well"
   ]
  },
  {
   "cell_type": "markdown",
   "metadata": {},
   "source": [
    "And then add _their_ references to the graph, until we get to some arbitrary distance (number of connections) from the original paper (node) than we added"
   ]
  },
  {
   "cell_type": "markdown",
   "metadata": {},
   "source": [
    "So the paper will contain some information: it will know what papers it references, but we also need a way to assign it a distance from the original paper"
   ]
  },
  {
   "cell_type": "markdown",
   "metadata": {},
   "source": [
    "So let's define a Paper class"
   ]
  },
  {
   "cell_type": "code",
   "execution_count": 7,
   "metadata": {},
   "outputs": [],
   "source": [
    "class Paper:\n",
    "\n",
    "    def __init__(self, references):\n",
    "        \"\"\"constructor to create a Paper,\n",
    "        it needs to know what it's references are\n",
    "        and it's distance from the original paper:\n",
    "        it's default will be 0 (each paper assumes it is the \n",
    "        original paper)\"\"\"\n",
    "        self.__refs = references\n",
    "        self.__dist = 0\n",
    "\n",
    "    def get_refs(self):\n",
    "        return self.__refs\n",
    "    \n",
    "    def get_dist(self):\n",
    "        return self.__dist\n",
    "    \n",
    "    def set_dist(self, distance):\n",
    "        self.__dist = distance"
   ]
  },
  {
   "cell_type": "markdown",
   "metadata": {},
   "source": [
    "# THE PAPER IS THE GRAPH"
   ]
  },
  {
   "cell_type": "markdown",
   "metadata": {},
   "source": [
    "what does that mean? Welllll a Paper is an inherenetly recursive object in the real world, it has references which are papers which have references which are papers... "
   ]
  },
  {
   "cell_type": "markdown",
   "metadata": {},
   "source": [
    "So the object that we create to represent a Paper needs to represent this property, however we need to add a base case (a depth at which we no longer care about the references)"
   ]
  },
  {
   "cell_type": "markdown",
   "metadata": {},
   "source": [
    "The real world has no recursion depth limits but python does"
   ]
  },
  {
   "cell_type": "markdown",
   "metadata": {},
   "source": [
    "So let's try again and create a different Paper class"
   ]
  },
  {
   "cell_type": "code",
   "execution_count": 79,
   "metadata": {},
   "outputs": [],
   "source": [
    "class Paper:\n",
    "\n",
    "    def __init__(self, name = 0, distance = 0):\n",
    "        self.__name = name\n",
    "        self.__distance = distance\n",
    "        self.__references = self.create_references()\n",
    "\n",
    "    def create_references(self):\n",
    "        # return an empty list if we have exceeded relevant depth\n",
    "        if self.get_distance() > 3:\n",
    "            return []\n",
    "        # otherwise, return a list of Paper objects\n",
    "        return [Paper(random.randint(1, 10) * n, self.get_distance() + 1) for n in range(1, 6)]\n",
    "\n",
    "    def get_name(self):\n",
    "        return self.__name\n",
    "    \n",
    "    def get_distance(self):\n",
    "        return self.__distance\n",
    "\n",
    "    def find_distance(self, name = 0, distance = 0):\n",
    "        if name == self.get_name():\n",
    "            return self.get_distance()\n",
    "        else:\n",
    "            for paper in self.get_references():\n",
    "                dist = paper.find_distance(name, distance + 1)\n",
    "                if dist is not None:\n",
    "                    return dist\n",
    "            return None\n",
    "\n",
    "\n",
    "    def get_references(self):\n",
    "        return self.__references\n",
    "\n",
    "    def __repr__(self):\n",
    "        return f\"{self.get_name()}: {self.get_references()}\""
   ]
  },
  {
   "cell_type": "code",
   "execution_count": 80,
   "metadata": {},
   "outputs": [],
   "source": [
    "paper = Paper()"
   ]
  },
  {
   "cell_type": "code",
   "execution_count": 92,
   "metadata": {},
   "outputs": [
    {
     "data": {
      "text/plain": [
       "[8: [7: [8: [7: [], 6: [], 12: [], 28: [], 35: []], 2: [2: [], 8: [], 9: [], 28: [], 10: []], 15: [9: [], 16: [], 3: [], 8: [], 10: []], 28: [4: [], 8: [], 24: [], 16: [], 15: []], 5: [1: [], 12: [], 21: [], 32: [], 10: []]], 4: [3: [3: [], 18: [], 3: [], 32: [], 25: []], 20: [8: [], 20: [], 15: [], 40: [], 20: []], 27: [10: [], 10: [], 27: [], 16: [], 20: []], 12: [6: [], 6: [], 15: [], 20: [], 5: []], 25: [3: [], 20: [], 6: [], 4: [], 50: []]], 27: [7: [7: [], 2: [], 27: [], 8: [], 30: []], 4: [8: [], 8: [], 18: [], 24: [], 5: []], 9: [8: [], 4: [], 30: [], 4: [], 30: []], 36: [3: [], 18: [], 3: [], 40: [], 20: []], 10: [7: [], 20: [], 27: [], 32: [], 45: []]], 16: [4: [10: [], 20: [], 6: [], 20: [], 35: []], 14: [10: [], 6: [], 30: [], 28: [], 50: []], 9: [9: [], 4: [], 21: [], 32: [], 20: []], 12: [8: [], 8: [], 15: [], 4: [], 15: []], 25: [3: [], 8: [], 27: [], 4: [], 40: []]], 15: [9: [8: [], 2: [], 30: [], 4: [], 45: []], 10: [4: [], 4: [], 15: [], 32: [], 50: []], 27: [6: [], 8: [], 21: [], 28: [], 10: []], 28: [6: [], 12: [], 21: [], 16: [], 40: []], 5: [10: [], 8: [], 18: [], 32: [], 5: []]]],\n",
       " 18: [8: [3: [7: [], 18: [], 6: [], 8: [], 40: []], 12: [3: [], 2: [], 6: [], 40: [], 15: []], 12: [3: [], 18: [], 21: [], 8: [], 5: []], 8: [7: [], 4: [], 3: [], 4: [], 10: []], 5: [10: [], 20: [], 24: [], 24: [], 5: []]], 16: [6: [5: [], 6: [], 12: [], 8: [], 30: []], 20: [9: [], 12: [], 9: [], 32: [], 25: []], 6: [8: [], 4: [], 12: [], 32: [], 40: []], 36: [1: [], 14: [], 6: [], 4: [], 40: []], 15: [7: [], 20: [], 27: [], 12: [], 10: []]], 3: [5: [8: [], 18: [], 3: [], 40: [], 40: []], 6: [10: [], 8: [], 21: [], 24: [], 45: []], 15: [10: [], 12: [], 9: [], 36: [], 35: []], 8: [1: [], 16: [], 30: [], 24: [], 10: []], 25: [10: [], 8: [], 3: [], 12: [], 45: []]], 12: [3: [3: [], 6: [], 12: [], 40: [], 40: []], 16: [1: [], 18: [], 9: [], 8: [], 40: []], 18: [8: [], 18: [], 30: [], 32: [], 10: []], 32: [7: [], 14: [], 15: [], 40: [], 30: []], 45: [10: [], 6: [], 3: [], 24: [], 10: []]], 25: [4: [7: [], 18: [], 3: [], 28: [], 5: []], 10: [7: [], 16: [], 18: [], 28: [], 25: []], 9: [9: [], 6: [], 27: [], 4: [], 20: []], 32: [1: [], 10: [], 3: [], 36: [], 45: []], 10: [7: [], 2: [], 12: [], 8: [], 40: []]]],\n",
       " 21: [6: [4: [7: [], 8: [], 3: [], 8: [], 35: []], 18: [6: [], 18: [], 9: [], 8: [], 20: []], 3: [6: [], 2: [], 27: [], 24: [], 15: []], 36: [1: [], 18: [], 3: [], 28: [], 35: []], 5: [3: [], 4: [], 3: [], 20: [], 30: []]], 20: [4: [4: [], 16: [], 27: [], 24: [], 10: []], 18: [6: [], 4: [], 15: [], 16: [], 50: []], 21: [6: [], 12: [], 21: [], 20: [], 15: []], 16: [9: [], 4: [], 18: [], 36: [], 25: []], 45: [9: [], 8: [], 15: [], 24: [], 20: []]], 9: [6: [9: [], 2: [], 15: [], 28: [], 5: []], 14: [6: [], 4: [], 24: [], 12: [], 5: []], 12: [4: [], 12: [], 12: [], 40: [], 30: []], 36: [1: [], 8: [], 30: [], 40: [], 25: []], 35: [6: [], 12: [], 27: [], 32: [], 15: []]], 36: [5: [8: [], 6: [], 27: [], 28: [], 50: []], 2: [5: [], 6: [], 6: [], 16: [], 10: []], 6: [7: [], 12: [], 6: [], 32: [], 45: []], 36: [5: [], 16: [], 9: [], 32: [], 50: []], 35: [10: [], 2: [], 21: [], 20: [], 15: []]], 20: [8: [7: [], 20: [], 24: [], 20: [], 35: []], 12: [4: [], 12: [], 9: [], 20: [], 25: []], 3: [10: [], 8: [], 15: [], 12: [], 5: []], 24: [5: [], 18: [], 9: [], 4: [], 25: []], 25: [10: [], 20: [], 30: [], 8: [], 5: []]]],\n",
       " 28: [4: [10: [6: [], 14: [], 12: [], 40: [], 40: []], 18: [3: [], 12: [], 12: [], 4: [], 50: []], 6: [8: [], 16: [], 21: [], 20: [], 15: []], 24: [7: [], 18: [], 6: [], 36: [], 5: []], 50: [5: [], 2: [], 30: [], 24: [], 30: []]], 14: [10: [5: [], 8: [], 12: [], 20: [], 10: []], 16: [1: [], 16: [], 30: [], 12: [], 50: []], 3: [9: [], 14: [], 30: [], 8: [], 20: []], 28: [8: [], 20: [], 9: [], 12: [], 35: []], 10: [1: [], 4: [], 6: [], 12: [], 15: []]], 3: [6: [1: [], 2: [], 15: [], 8: [], 30: []], 20: [7: [], 4: [], 21: [], 16: [], 10: []], 30: [8: [], 18: [], 3: [], 36: [], 40: []], 16: [2: [], 8: [], 9: [], 24: [], 10: []], 40: [2: [], 14: [], 21: [], 12: [], 50: []]], 24: [10: [9: [], 8: [], 21: [], 36: [], 10: []], 18: [3: [], 6: [], 18: [], 4: [], 45: []], 9: [8: [], 16: [], 12: [], 40: [], 10: []], 40: [9: [], 2: [], 6: [], 4: [], 15: []], 25: [5: [], 18: [], 27: [], 16: [], 20: []]], 50: [6: [1: [], 8: [], 6: [], 8: [], 30: []], 6: [5: [], 18: [], 30: [], 4: [], 40: []], 9: [7: [], 18: [], 21: [], 4: [], 15: []], 40: [7: [], 6: [], 30: [], 28: [], 5: []], 30: [3: [], 10: [], 6: [], 4: [], 10: []]]],\n",
       " 30: [1: [1: [2: [], 18: [], 9: [], 20: [], 15: []], 10: [6: [], 14: [], 24: [], 16: [], 10: []], 3: [1: [], 8: [], 3: [], 8: [], 15: []], 20: [7: [], 18: [], 18: [], 12: [], 10: []], 10: [5: [], 8: [], 30: [], 28: [], 15: []]], 4: [10: [8: [], 6: [], 24: [], 16: [], 30: []], 14: [10: [], 2: [], 15: [], 40: [], 40: []], 3: [2: [], 2: [], 6: [], 16: [], 30: []], 16: [7: [], 2: [], 15: [], 32: [], 50: []], 50: [10: [], 4: [], 12: [], 24: [], 10: []]], 12: [7: [1: [], 20: [], 6: [], 24: [], 30: []], 2: [3: [], 2: [], 3: [], 12: [], 35: []], 24: [9: [], 4: [], 6: [], 24: [], 30: []], 36: [5: [], 8: [], 21: [], 20: [], 10: []], 15: [10: [], 8: [], 6: [], 8: [], 15: []]], 40: [3: [3: [], 10: [], 15: [], 40: [], 50: []], 20: [4: [], 10: [], 15: [], 28: [], 45: []], 18: [2: [], 18: [], 27: [], 20: [], 40: []], 8: [6: [], 6: [], 24: [], 4: [], 50: []], 25: [6: [], 10: [], 3: [], 8: [], 25: []]], 40: [5: [4: [], 16: [], 15: [], 28: [], 40: []], 16: [10: [], 2: [], 15: [], 20: [], 45: []], 27: [2: [], 20: [], 18: [], 28: [], 35: []], 12: [7: [], 12: [], 30: [], 40: [], 10: []], 35: [10: [], 20: [], 21: [], 40: [], 25: []]]]]"
      ]
     },
     "execution_count": 92,
     "metadata": {},
     "output_type": "execute_result"
    }
   ],
   "source": [
    "paper.get_references()"
   ]
  },
  {
   "cell_type": "code",
   "execution_count": 94,
   "metadata": {},
   "outputs": [
    {
     "data": {
      "text/plain": [
       "4"
      ]
     },
     "execution_count": 94,
     "metadata": {},
     "output_type": "execute_result"
    }
   ],
   "source": [
    "paper.find_distance(18)"
   ]
  },
  {
   "cell_type": "code",
   "execution_count": null,
   "metadata": {},
   "outputs": [],
   "source": []
  },
  {
   "cell_type": "code",
   "execution_count": 90,
   "metadata": {},
   "outputs": [
    {
     "data": {
      "text/plain": [
       "3"
      ]
     },
     "execution_count": 90,
     "metadata": {},
     "output_type": "execute_result"
    }
   ],
   "source": [
    "paper.find_distance(2)"
   ]
  },
  {
   "cell_type": "code",
   "execution_count": null,
   "metadata": {},
   "outputs": [],
   "source": []
  },
  {
   "cell_type": "code",
   "execution_count": null,
   "metadata": {},
   "outputs": [],
   "source": []
  }
 ],
 "metadata": {
  "kernelspec": {
   "display_name": "alg-ass-group",
   "language": "python",
   "name": "python3"
  },
  "language_info": {
   "codemirror_mode": {
    "name": "ipython",
    "version": 3
   },
   "file_extension": ".py",
   "mimetype": "text/x-python",
   "name": "python",
   "nbconvert_exporter": "python",
   "pygments_lexer": "ipython3",
   "version": "3.11.8"
  }
 },
 "nbformat": 4,
 "nbformat_minor": 2
}
