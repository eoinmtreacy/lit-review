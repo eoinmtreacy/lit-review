{
 "cells": [
  {
   "cell_type": "code",
   "execution_count": 37,
   "metadata": {},
   "outputs": [],
   "source": [
    "import random\n",
    "random.seed(42)"
   ]
  },
  {
   "cell_type": "markdown",
   "metadata": {},
   "source": [
    "# Lit 🔥 Review Visualiser"
   ]
  },
  {
   "cell_type": "markdown",
   "metadata": {},
   "source": [
    "### team notes\n",
    "Below is a basic outline of our data structure, a directed graph"
   ]
  },
  {
   "cell_type": "markdown",
   "metadata": {},
   "source": [
    "It's heavily commented (some of which won't make it to submission) to keep it as clear as possible"
   ]
  },
  {
   "cell_type": "markdown",
   "metadata": {},
   "source": [
    "Shout if anything is confusing and we'll figure it out, or if I've misinterpreted any of the decisions we made the first time we talked about it "
   ]
  },
  {
   "cell_type": "markdown",
   "metadata": {},
   "source": [
    "## Data Structure"
   ]
  },
  {
   "cell_type": "markdown",
   "metadata": {},
   "source": [
    "### note on classes\n",
    "this is just for clarity, won't make the final report"
   ]
  },
  {
   "cell_type": "markdown",
   "metadata": {},
   "source": [
    "We _could_ represent the graph without declaring a new class, but this will keep things cleaner for us in the long run"
   ]
  },
  {
   "cell_type": "markdown",
   "metadata": {},
   "source": [
    "The alternative would probably to create a dictionary of lists, that would look a little like this"
   ]
  },
  {
   "cell_type": "code",
   "execution_count": 38,
   "metadata": {},
   "outputs": [],
   "source": [
    "graph = {\n",
    "    'adjacency_list': [[], [], []], # what nodes are connected to what nodes, every node would have it's own list\n",
    "    'node': [1, 69, 420] # just a list of all the nodes\n",
    "}"
   ]
  },
  {
   "cell_type": "markdown",
   "metadata": {},
   "source": [
    "We would then have to define functions to add/get nodes and edges anyway, for example:"
   ]
  },
  {
   "cell_type": "code",
   "execution_count": 39,
   "metadata": {},
   "outputs": [],
   "source": [
    "def add_node(graph, x):\n",
    "    graph['adjacency_list'].append([])\n",
    "    graph['nodles'].append(x)"
   ]
  },
  {
   "cell_type": "markdown",
   "metadata": {},
   "source": [
    "And then to _get_ a node, it would pass the index, much like the method in the class"
   ]
  },
  {
   "cell_type": "code",
   "execution_count": 40,
   "metadata": {},
   "outputs": [],
   "source": [
    "def get_node(graph, index):\n",
    "    return graph['nodes'][index]"
   ]
  },
  {
   "cell_type": "markdown",
   "metadata": {},
   "source": [
    "When you see *self* as one of the variables in the below class method, that just means we want to act on itself, so it saves us having to pass the `graph` variable to every function we all"
   ]
  },
  {
   "cell_type": "markdown",
   "metadata": {},
   "source": [
    "# THE PAPER IS THE GRAPH"
   ]
  },
  {
   "cell_type": "markdown",
   "metadata": {},
   "source": [
    "what does that mean? Welllll a Paper is an inherenetly recursive object in the real world, it has references which are papers which have references which are papers... "
   ]
  },
  {
   "cell_type": "markdown",
   "metadata": {},
   "source": [
    "So the object that we create to represent a Paper needs to represent this property, however we need to add a base case (a depth at which we no longer care about the references)"
   ]
  },
  {
   "cell_type": "markdown",
   "metadata": {},
   "source": [
    "The real world has no recursion depth limits but python does"
   ]
  },
  {
   "cell_type": "markdown",
   "metadata": {},
   "source": [
    "So let's try again and create a different Paper class"
   ]
  },
  {
   "cell_type": "code",
   "execution_count": 49,
   "metadata": {},
   "outputs": [],
   "source": [
    "class Paper:\n",
    "\n",
    "    def __init__(self, name = 0, distance = 0):\n",
    "        \"\"\"this constructor is recursive, eaech Paper create \n",
    "        a list of Papers that it references\"\"\"\n",
    "        self.__name = name\n",
    "        self.__distance = distance\n",
    "        self.__references = self.create_references()\n",
    "\n",
    "    def create_references(self):\n",
    "        # return an empty list if we have exceeded relevant depth\n",
    "        if self.get_distance() > 3:\n",
    "            return []\n",
    "        # otherwise, return a list of Paper objects\n",
    "        return [Paper(random.randint(self.get_name() - 5, self.get_name() - 1), self.get_distance() + 1) for _ in range(5)]\n",
    "\n",
    "    def get_name(self):\n",
    "        return self.__name\n",
    "    \n",
    "    def get_distance(self):\n",
    "        return self.__distance\n",
    "\n",
    "    def find_distance(self, name=0, distance=0, min_distance=float('inf')):\n",
    "        # if name target paper == this paper, return its distance\n",
    "        if name == self.get_name():\n",
    "            min_distance = min(min_distance, self.get_distance())\n",
    "\n",
    "        # else check all the Paper's references\n",
    "        for paper in self.get_references():\n",
    "\n",
    "            # call find_distance for each paper and pass on the minimum distance\n",
    "            dist = paper.find_distance(name, distance + 1, min_distance)\n",
    "\n",
    "            # if the paper is found, check if it's the new minimum distance\n",
    "            if dist is not None:\n",
    "                min_distance = min(min_distance, dist)\n",
    "\n",
    "        # return min_distance after ALL Papers have been checked\n",
    "        return min_distance\n",
    "\n",
    "    def get_references(self):\n",
    "        return self.__references\n",
    "\n",
    "    def __repr__(self):\n",
    "        return f\"{self.get_name()}: {self.get_references()}\""
   ]
  },
  {
   "cell_type": "code",
   "execution_count": 55,
   "metadata": {},
   "outputs": [],
   "source": [
    "paper = Paper(2024)"
   ]
  },
  {
   "cell_type": "code",
   "execution_count": 57,
   "metadata": {},
   "outputs": [
    {
     "data": {
      "text/plain": [
       "[2022: [2019: [2015: [2013: [], 2014: [], 2012: [], 2010: [], 2012: []], 2016: [2015: [], 2012: [], 2012: [], 2012: [], 2014: []], 2015: [2013: [], 2014: [], 2012: [], 2013: [], 2014: []], 2017: [2016: [], 2013: [], 2013: [], 2016: [], 2012: []], 2018: [2016: [], 2017: [], 2015: [], 2013: [], 2017: []]], 2017: [2012: [2011: [], 2011: [], 2008: [], 2011: [], 2011: []], 2013: [2009: [], 2010: [], 2012: [], 2011: [], 2008: []], 2013: [2012: [], 2011: [], 2008: [], 2012: [], 2011: []], 2012: [2010: [], 2008: [], 2011: [], 2010: [], 2010: []], 2016: [2011: [], 2015: [], 2014: [], 2013: [], 2011: []]], 2020: [2017: [2012: [], 2013: [], 2016: [], 2012: [], 2012: []], 2018: [2015: [], 2013: [], 2017: [], 2013: [], 2013: []], 2018: [2013: [], 2015: [], 2016: [], 2014: [], 2014: []], 2018: [2015: [], 2016: [], 2016: [], 2016: [], 2016: []], 2015: [2014: [], 2011: [], 2012: [], 2010: [], 2011: []]], 2021: [2019: [2018: [], 2015: [], 2015: [], 2014: [], 2014: []], 2018: [2016: [], 2017: [], 2016: [], 2017: [], 2016: []], 2017: [2013: [], 2015: [], 2014: [], 2013: [], 2014: []], 2017: [2012: [], 2012: [], 2015: [], 2016: [], 2012: []], 2017: [2013: [], 2012: [], 2012: [], 2016: [], 2012: []]], 2020: [2019: [2014: [], 2015: [], 2014: [], 2017: [], 2017: []], 2016: [2015: [], 2012: [], 2011: [], 2012: [], 2015: []], 2017: [2013: [], 2016: [], 2014: [], 2016: [], 2016: []], 2017: [2013: [], 2014: [], 2013: [], 2016: [], 2013: []], 2018: [2015: [], 2015: [], 2013: [], 2017: [], 2017: []]]],\n",
       " 2020: [2018: [2017: [2015: [], 2012: [], 2014: [], 2015: [], 2016: []], 2015: [2013: [], 2013: [], 2011: [], 2012: [], 2013: []], 2014: [2013: [], 2012: [], 2010: [], 2010: [], 2011: []], 2014: [2012: [], 2009: [], 2013: [], 2012: [], 2012: []], 2017: [2016: [], 2013: [], 2015: [], 2013: [], 2014: []]], 2016: [2013: [2008: [], 2011: [], 2010: [], 2008: [], 2012: []], 2012: [2007: [], 2009: [], 2010: [], 2011: [], 2011: []], 2011: [2006: [], 2007: [], 2010: [], 2010: [], 2007: []], 2014: [2010: [], 2011: [], 2011: [], 2009: [], 2010: []], 2012: [2007: [], 2010: [], 2008: [], 2011: [], 2008: []]], 2018: [2014: [2013: [], 2011: [], 2011: [], 2012: [], 2012: []], 2017: [2014: [], 2014: [], 2014: [], 2014: [], 2016: []], 2016: [2014: [], 2011: [], 2014: [], 2013: [], 2012: []], 2015: [2012: [], 2013: [], 2010: [], 2014: [], 2011: []], 2014: [2009: [], 2011: [], 2013: [], 2013: [], 2013: []]], 2018: [2015: [2011: [], 2011: [], 2012: [], 2011: [], 2013: []], 2017: [2013: [], 2015: [], 2016: [], 2014: [], 2014: []], 2016: [2014: [], 2014: [], 2012: [], 2013: [], 2012: []], 2014: [2013: [], 2012: [], 2010: [], 2013: [], 2009: []], 2017: [2012: [], 2012: [], 2012: [], 2012: [], 2015: []]], 2016: [2012: [2007: [], 2008: [], 2007: [], 2008: [], 2011: []], 2014: [2011: [], 2009: [], 2013: [], 2013: [], 2012: []], 2014: [2009: [], 2009: [], 2013: [], 2013: [], 2012: []], 2011: [2006: [], 2010: [], 2008: [], 2010: [], 2008: []], 2011: [2010: [], 2009: [], 2007: [], 2006: [], 2006: []]]],\n",
       " 2023: [2019: [2015: [2011: [], 2014: [], 2014: [], 2012: [], 2012: []], 2016: [2014: [], 2011: [], 2013: [], 2014: [], 2014: []], 2018: [2014: [], 2014: [], 2015: [], 2013: [], 2013: []], 2014: [2012: [], 2012: [], 2012: [], 2013: [], 2012: []], 2014: [2009: [], 2010: [], 2009: [], 2012: [], 2012: []]], 2020: [2019: [2014: [], 2018: [], 2014: [], 2015: [], 2015: []], 2019: [2017: [], 2016: [], 2014: [], 2014: [], 2016: []], 2019: [2018: [], 2014: [], 2015: [], 2016: [], 2014: []], 2016: [2015: [], 2012: [], 2014: [], 2011: [], 2013: []], 2016: [2015: [], 2012: [], 2015: [], 2014: [], 2015: []]], 2020: [2018: [2014: [], 2013: [], 2017: [], 2015: [], 2013: []], 2015: [2013: [], 2011: [], 2010: [], 2012: [], 2014: []], 2019: [2018: [], 2017: [], 2016: [], 2014: [], 2016: []], 2018: [2016: [], 2014: [], 2015: [], 2017: [], 2016: []], 2018: [2014: [], 2017: [], 2016: [], 2013: [], 2017: []]], 2020: [2016: [2011: [], 2011: [], 2013: [], 2012: [], 2014: []], 2016: [2014: [], 2013: [], 2013: [], 2011: [], 2011: []], 2015: [2012: [], 2013: [], 2012: [], 2012: [], 2010: []], 2016: [2011: [], 2012: [], 2014: [], 2014: [], 2015: []], 2019: [2018: [], 2017: [], 2014: [], 2014: [], 2014: []]], 2020: [2019: [2014: [], 2018: [], 2018: [], 2016: [], 2017: []], 2015: [2012: [], 2013: [], 2013: [], 2010: [], 2014: []], 2016: [2015: [], 2015: [], 2012: [], 2014: [], 2012: []], 2016: [2013: [], 2013: [], 2013: [], 2014: [], 2012: []], 2015: [2011: [], 2013: [], 2012: [], 2013: [], 2012: []]]],\n",
       " 2022: [2017: [2014: [2011: [], 2010: [], 2012: [], 2013: [], 2013: []], 2013: [2011: [], 2008: [], 2009: [], 2010: [], 2008: []], 2015: [2012: [], 2014: [], 2013: [], 2012: [], 2013: []], 2014: [2012: [], 2013: [], 2010: [], 2011: [], 2011: []], 2016: [2012: [], 2014: [], 2013: [], 2012: [], 2014: []]], 2019: [2016: [2014: [], 2015: [], 2012: [], 2013: [], 2014: []], 2016: [2014: [], 2013: [], 2011: [], 2015: [], 2012: []], 2018: [2017: [], 2014: [], 2017: [], 2013: [], 2016: []], 2015: [2013: [], 2012: [], 2010: [], 2013: [], 2013: []], 2015: [2012: [], 2011: [], 2012: [], 2011: [], 2013: []]], 2020: [2015: [2013: [], 2014: [], 2013: [], 2014: [], 2013: []], 2019: [2018: [], 2017: [], 2018: [], 2014: [], 2016: []], 2019: [2018: [], 2014: [], 2014: [], 2015: [], 2016: []], 2016: [2015: [], 2011: [], 2015: [], 2014: [], 2013: []], 2018: [2013: [], 2013: [], 2013: [], 2015: [], 2014: []]], 2021: [2020: [2019: [], 2019: [], 2019: [], 2016: [], 2018: []], 2018: [2016: [], 2016: [], 2017: [], 2017: [], 2014: []], 2018: [2013: [], 2016: [], 2013: [], 2015: [], 2016: []], 2016: [2011: [], 2012: [], 2013: [], 2013: [], 2013: []], 2019: [2015: [], 2018: [], 2017: [], 2016: [], 2017: []]], 2017: [2015: [2013: [], 2012: [], 2010: [], 2012: [], 2010: []], 2012: [2007: [], 2009: [], 2007: [], 2008: [], 2008: []], 2016: [2012: [], 2015: [], 2012: [], 2013: [], 2015: []], 2015: [2013: [], 2011: [], 2013: [], 2011: [], 2011: []], 2015: [2013: [], 2010: [], 2014: [], 2011: [], 2013: []]]],\n",
       " 2023: [2021: [2019: [2014: [], 2015: [], 2015: [], 2016: [], 2014: []], 2020: [2015: [], 2019: [], 2016: [], 2017: [], 2017: []], 2017: [2015: [], 2012: [], 2014: [], 2015: [], 2016: []], 2018: [2017: [], 2016: [], 2017: [], 2016: [], 2017: []], 2016: [2013: [], 2013: [], 2014: [], 2015: [], 2012: []]], 2020: [2019: [2018: [], 2014: [], 2015: [], 2016: [], 2014: []], 2016: [2013: [], 2011: [], 2012: [], 2013: [], 2012: []], 2019: [2017: [], 2017: [], 2018: [], 2015: [], 2018: []], 2018: [2016: [], 2014: [], 2016: [], 2017: [], 2014: []], 2019: [2015: [], 2017: [], 2016: [], 2015: [], 2015: []]], 2020: [2018: [2017: [], 2013: [], 2015: [], 2013: [], 2016: []], 2016: [2012: [], 2014: [], 2015: [], 2015: [], 2014: []], 2018: [2016: [], 2016: [], 2016: [], 2016: [], 2014: []], 2015: [2014: [], 2010: [], 2011: [], 2012: [], 2010: []], 2017: [2013: [], 2016: [], 2014: [], 2013: [], 2015: []]], 2022: [2020: [2019: [], 2019: [], 2015: [], 2019: [], 2015: []], 2019: [2018: [], 2016: [], 2018: [], 2014: [], 2017: []], 2021: [2017: [], 2019: [], 2016: [], 2017: [], 2018: []], 2017: [2015: [], 2014: [], 2014: [], 2012: [], 2015: []], 2017: [2013: [], 2013: [], 2016: [], 2014: [], 2016: []]], 2021: [2017: [2016: [], 2013: [], 2013: [], 2013: [], 2012: []], 2020: [2017: [], 2019: [], 2017: [], 2019: [], 2019: []], 2017: [2014: [], 2014: [], 2014: [], 2016: [], 2014: []], 2020: [2015: [], 2016: [], 2018: [], 2015: [], 2017: []], 2017: [2013: [], 2013: [], 2013: [], 2014: [], 2013: []]]]]"
      ]
     },
     "execution_count": 57,
     "metadata": {},
     "output_type": "execute_result"
    }
   ],
   "source": [
    "paper.get_references()"
   ]
  },
  {
   "cell_type": "markdown",
   "metadata": {},
   "source": [
    "`find_distance()` returns the shortest distance found from one Paper to another"
   ]
  },
  {
   "cell_type": "markdown",
   "metadata": {},
   "source": [
    "As you can  see above, Paper 2 is referenced directly by `paper` (line 1), "
   ]
  },
  {
   "cell_type": "markdown",
   "metadata": {},
   "source": [
    "but is also referenced by Paper 1, which is referenced by Paper 16, which is a distance of 3 (line 2)"
   ]
  },
  {
   "cell_type": "code",
   "execution_count": 54,
   "metadata": {},
   "outputs": [
    {
     "data": {
      "text/plain": [
       "2"
      ]
     },
     "execution_count": 54,
     "metadata": {},
     "output_type": "execute_result"
    }
   ],
   "source": [
    "paper.find_distance(2015)"
   ]
  },
  {
   "cell_type": "markdown",
   "metadata": {},
   "source": [
    "Attempting to find the distance to a paper that isn't referenced will return `inf`, in other words, not in the references"
   ]
  },
  {
   "cell_type": "code",
   "execution_count": 45,
   "metadata": {},
   "outputs": [
    {
     "data": {
      "text/plain": [
       "inf"
      ]
     },
     "execution_count": 45,
     "metadata": {},
     "output_type": "execute_result"
    }
   ],
   "source": [
    "paper.find_distance(12345)"
   ]
  },
  {
   "cell_type": "markdown",
   "metadata": {},
   "source": [
    "## Testing"
   ]
  }
 ],
 "metadata": {
  "kernelspec": {
   "display_name": "alg-ass-group",
   "language": "python",
   "name": "python3"
  },
  "language_info": {
   "codemirror_mode": {
    "name": "ipython",
    "version": 3
   },
   "file_extension": ".py",
   "mimetype": "text/x-python",
   "name": "python",
   "nbconvert_exporter": "python",
   "pygments_lexer": "ipython3",
   "version": "3.11.8"
  }
 },
 "nbformat": 4,
 "nbformat_minor": 2
}
