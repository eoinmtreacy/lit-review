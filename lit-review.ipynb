{
 "cells": [
  {
   "cell_type": "markdown",
   "metadata": {},
   "source": [
    "# Lit 🔥 Review Visualiser"
   ]
  },
  {
   "cell_type": "markdown",
   "metadata": {},
   "source": [
    "### team notes\n",
    "Below is a basic outline of our data structure, a directed graph"
   ]
  },
  {
   "cell_type": "markdown",
   "metadata": {},
   "source": [
    "It's heavily commented (some of which won't make it to submission) to keep it as clear as possible"
   ]
  },
  {
   "cell_type": "markdown",
   "metadata": {},
   "source": [
    "Shout if anything is confusing and we'll figure it out, or if I've misinterpreted any of the decisions we made the first time we talked about it "
   ]
  },
  {
   "cell_type": "markdown",
   "metadata": {},
   "source": [
    "## Data Structure"
   ]
  },
  {
   "cell_type": "markdown",
   "metadata": {},
   "source": [
    "### note on classes\n",
    "this is just for clarity, won't make the final report"
   ]
  },
  {
   "cell_type": "markdown",
   "metadata": {},
   "source": [
    "We _could_ represent the graph without declaring a new class, but this will keep things cleaner for us in the long run"
   ]
  },
  {
   "cell_type": "markdown",
   "metadata": {},
   "source": [
    "The alternative would probably to create a dictionary of lists, that would look a little like this"
   ]
  },
  {
   "cell_type": "code",
   "execution_count": 8,
   "metadata": {},
   "outputs": [],
   "source": [
    "graph = {\n",
    "    'adjacency_list': [[], [], []], # what nodes are connected to what nodes, every node would have it's own list\n",
    "    'node': [1, 69, 420] # just a list of all the nodes\n",
    "}"
   ]
  },
  {
   "cell_type": "markdown",
   "metadata": {},
   "source": [
    "We would then have to define functions to add/get nodes and edges anyway, for example:"
   ]
  },
  {
   "cell_type": "code",
   "execution_count": 3,
   "metadata": {},
   "outputs": [],
   "source": [
    "def add_node(graph, x):\n",
    "    graph['adjacency_list'].append([])\n",
    "    graph['nodles'].append(x)"
   ]
  },
  {
   "cell_type": "markdown",
   "metadata": {},
   "source": [
    "And then to _get_ a node, it would pass the index, much like the method in the class"
   ]
  },
  {
   "cell_type": "code",
   "execution_count": 4,
   "metadata": {},
   "outputs": [],
   "source": [
    "def get_node(graph, index):\n",
    "    return graph['nodes'][index]"
   ]
  },
  {
   "cell_type": "markdown",
   "metadata": {},
   "source": [
    "When you see *self* as one of the variables in the below class method, that just means we want to act on itself, so it saves us having to pass the `graph` variable to every function we all"
   ]
  },
  {
   "cell_type": "markdown",
   "metadata": {},
   "source": [
    "## _Actual_ Data Structure"
   ]
  },
  {
   "cell_type": "markdown",
   "metadata": {},
   "source": [
    "Shout if any of the syntax is confusing"
   ]
  },
  {
   "cell_type": "code",
   "execution_count": 7,
   "metadata": {},
   "outputs": [],
   "source": [
    "class Graph:\n",
    "    \n",
    "    def __init__(self) -> None:\n",
    "        \"\"\"this function will be called when we create a new Graph;\n",
    "        i.e. graph = Graph();\n",
    "        it just initializes two empty lists,\n",
    "        one for each node and one for for all the nodes it is connected to\"\"\"\n",
    "        self.__adjacency_list: list = [] # self.whatever just means that the list is an attribute of the Graph\n",
    "        self.__nodes: list = []\n",
    "\n",
    "    def add_node(self, node) -> None:\n",
    "        \"\"\"this function accepts a node as an argument\n",
    "        and add it to the nodes list, then adds an empty\n",
    "        list to the adjacency_list that we will populate\n",
    "        with the nodes it is connected to\"\"\"\n",
    "        self.__adjacency_list.append([])\n",
    "        self.__nodes.append(node)\n",
    "        \n",
    "    def add_edge(self, nodeX, nodeY) -> None:\n",
    "        \"\"\"this function accepts two nodes, arbitrarily X and Y;\n",
    "        adding nodeY to the adjacency list of nodeX;\n",
    "        NOTE: it won't add nodeX to the adjacency list of nodeY\n",
    "        because in our implementation the graph is directed:\n",
    "        references only go one way\"\"\"\n",
    "        if nodeY not in self.__adjacency_list[nodeY]:  # Ensure unique edges\n",
    "            self.__adjacency_list[nodeX].append(nodeY)\n",
    "        \n",
    "    def neighbours(self, node):\n",
    "        \"\"\"this function just returns the adjacency_list \n",
    "        (all the nodes connected) to any given node as an argument\"\"\"\n",
    "        return self.__my_adjacency_list[node]\n",
    "        \n",
    "    def __str__(self) -> str:\n",
    "        \"\"\"printing, mainly just debuggin, not exciting\"\"\"\n",
    "        out: str = \"\"\n",
    "        for i in range(len(self.__adjacency_list)):\n",
    "            out.append(\"node\", i, \"(\", self.__nodes[i], \") = \", self.__adjacency_list[i])\n",
    "        return out\n",
    "\n",
    "    def get_nodes(self) -> list:\n",
    "        \"\"\"this function just returns all the nodes\"\"\"\n",
    "        return self.__nodes\n",
    "    \n",
    "    def get_adjacency_list(self) -> list[list]:\n",
    "        \"\"\"this function just returns the adjacency list for all the nodes\"\"\"\n",
    "        return self.__adjacency_list"
   ]
  },
  {
   "cell_type": "markdown",
   "metadata": {},
   "source": [
    "This graph doesn't quite serve our purposes just yet"
   ]
  },
  {
   "cell_type": "markdown",
   "metadata": {},
   "source": [
    "From what I remember of what we decided, we wanted to be able to add one node (a paper) to the graph, then for every paper it referenced, at it to the graph"
   ]
  },
  {
   "cell_type": "markdown",
   "metadata": {},
   "source": [
    "The for each of the new nodes added, add their references (nodes) to the graph as well"
   ]
  },
  {
   "cell_type": "markdown",
   "metadata": {},
   "source": [
    "And then add _their_ references to the graph, until we get to some arbitrary distance (number of connections) from the original paper (node) than we added"
   ]
  },
  {
   "cell_type": "markdown",
   "metadata": {},
   "source": [
    "So the paper will contain some information: it will know what papers it references, but we also need a way to assign it a distance from the original paper"
   ]
  },
  {
   "cell_type": "markdown",
   "metadata": {},
   "source": [
    "So let's define a Paper class"
   ]
  },
  {
   "cell_type": "code",
   "execution_count": 17,
   "metadata": {},
   "outputs": [],
   "source": [
    "class Paper:\n",
    "\n",
    "    def __init__(self, references):\n",
    "        \"\"\"constructor to create a Paper,\n",
    "        it needs to know what it's references are\n",
    "        and it's distance from the original paper:\n",
    "        it's default will be 0 (each paper assumes it is the \n",
    "        original paper)\"\"\"\n",
    "        self.__refs = references\n",
    "        self.__dist = 0\n",
    "\n",
    "    def get_refs(self):\n",
    "        return self.__refs\n",
    "    \n",
    "    def get_dist(self):\n",
    "        return self.__dist\n",
    "    \n",
    "    def set_dist(self, distance):\n",
    "        self.__dist = distance"
   ]
  },
  {
   "cell_type": "markdown",
   "metadata": {},
   "source": [
    "# THE PAPER IS THE DATA STRUCTURE"
   ]
  }
 ],
 "metadata": {
  "kernelspec": {
   "display_name": "alg-ass-group",
   "language": "python",
   "name": "python3"
  },
  "language_info": {
   "codemirror_mode": {
    "name": "ipython",
    "version": 3
   },
   "file_extension": ".py",
   "mimetype": "text/x-python",
   "name": "python",
   "nbconvert_exporter": "python",
   "pygments_lexer": "ipython3",
   "version": "3.11.8"
  }
 },
 "nbformat": 4,
 "nbformat_minor": 2
}
