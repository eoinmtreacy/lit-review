{
 "cells": [
  {
   "cell_type": "code",
   "execution_count": 174,
   "metadata": {},
   "outputs": [],
   "source": [
    "import random"
   ]
  },
  {
   "cell_type": "markdown",
   "metadata": {},
   "source": [
    "# Lit 🔥 Review Visualiser"
   ]
  },
  {
   "cell_type": "markdown",
   "metadata": {},
   "source": [
    "### team notes\n",
    "Below is a basic outline of our data structure, a directed graph"
   ]
  },
  {
   "cell_type": "markdown",
   "metadata": {},
   "source": [
    "It's heavily commented (some of which won't make it to submission) to keep it as clear as possible"
   ]
  },
  {
   "cell_type": "markdown",
   "metadata": {},
   "source": [
    "Shout if anything is confusing and we'll figure it out, or if I've misinterpreted any of the decisions we made the first time we talked about it "
   ]
  },
  {
   "cell_type": "markdown",
   "metadata": {},
   "source": [
    "## Data Structure"
   ]
  },
  {
   "cell_type": "markdown",
   "metadata": {},
   "source": [
    "### note on classes\n",
    "this is just for clarity, won't make the final report"
   ]
  },
  {
   "cell_type": "markdown",
   "metadata": {},
   "source": [
    "We _could_ represent the graph without declaring a new class, but this will keep things cleaner for us in the long run"
   ]
  },
  {
   "cell_type": "markdown",
   "metadata": {},
   "source": [
    "The alternative would probably to create a dictionary of lists, that would look a little like this"
   ]
  },
  {
   "cell_type": "code",
   "execution_count": 8,
   "metadata": {},
   "outputs": [],
   "source": [
    "graph = {\n",
    "    'adjacency_list': [[], [], []], # what nodes are connected to what nodes, every node would have it's own list\n",
    "    'node': [1, 69, 420] # just a list of all the nodes\n",
    "}"
   ]
  },
  {
   "cell_type": "markdown",
   "metadata": {},
   "source": [
    "We would then have to define functions to add/get nodes and edges anyway, for example:"
   ]
  },
  {
   "cell_type": "code",
   "execution_count": 3,
   "metadata": {},
   "outputs": [],
   "source": [
    "def add_node(graph, x):\n",
    "    graph['adjacency_list'].append([])\n",
    "    graph['nodles'].append(x)"
   ]
  },
  {
   "cell_type": "markdown",
   "metadata": {},
   "source": [
    "And then to _get_ a node, it would pass the index, much like the method in the class"
   ]
  },
  {
   "cell_type": "code",
   "execution_count": 4,
   "metadata": {},
   "outputs": [],
   "source": [
    "def get_node(graph, index):\n",
    "    return graph['nodes'][index]"
   ]
  },
  {
   "cell_type": "markdown",
   "metadata": {},
   "source": [
    "When you see *self* as one of the variables in the below class method, that just means we want to act on itself, so it saves us having to pass the `graph` variable to every function we all"
   ]
  },
  {
   "cell_type": "markdown",
   "metadata": {},
   "source": [
    "## _Actual_ Data Structure"
   ]
  },
  {
   "cell_type": "markdown",
   "metadata": {},
   "source": [
    "Shout if any of the syntax is confusing"
   ]
  },
  {
   "cell_type": "code",
   "execution_count": 7,
   "metadata": {},
   "outputs": [],
   "source": [
    "class Graph:\n",
    "    \n",
    "    def __init__(self) -> None:\n",
    "        \"\"\"this function will be called when we create a new Graph;\n",
    "        i.e. graph = Graph();\n",
    "        it just initializes two empty lists,\n",
    "        one for each node and one for for all the nodes it is connected to\"\"\"\n",
    "        self.__adjacency_list: list = [] # self.whatever just means that the list is an attribute of the Graph\n",
    "        self.__nodes: list = []\n",
    "\n",
    "    def add_node(self, node) -> None:\n",
    "        \"\"\"this function accepts a node as an argument\n",
    "        and add it to the nodes list, then adds an empty\n",
    "        list to the adjacency_list that we will populate\n",
    "        with the nodes it is connected to\"\"\"\n",
    "        self.__adjacency_list.append([])\n",
    "        self.__nodes.append(node)\n",
    "        \n",
    "    def add_edge(self, nodeX, nodeY) -> None:\n",
    "        \"\"\"this function accepts two nodes, arbitrarily X and Y;\n",
    "        adding nodeY to the adjacency list of nodeX;\n",
    "        NOTE: it won't add nodeX to the adjacency list of nodeY \n",
    "        because in our implementation the graph is directed:\n",
    "        references only go one way\"\"\"\n",
    "        if nodeY not in self.__adjacency_list[nodeY]:  # Ensure unique edges\n",
    "            self.__adjacency_list[nodeX].append(nodeY)\n",
    "        \n",
    "    def neighbours(self, node):\n",
    "        \"\"\"this function just returns the adjacency_list \n",
    "        (all the nodes connected) to any given node as an argument\"\"\"\n",
    "        return self.__my_adjacency_list[node]\n",
    "        \n",
    "    def __str__(self) -> str:\n",
    "        \"\"\"printing, mainly just debuggin, not exciting\"\"\"\n",
    "        out: str = \"\"\n",
    "        for i in range(len(self.__adjacency_list)):\n",
    "            out.append(\"node\", i, \"(\", self.__nodes[i], \") = \", self.__adjacency_list[i])\n",
    "        return out\n",
    "\n",
    "    def get_nodes(self) -> list:\n",
    "        \"\"\"this function just returns all the nodes\"\"\"\n",
    "        return self.__nodes\n",
    "    \n",
    "    def get_adjacency_list(self) -> list[list]:\n",
    "        \"\"\"this function just returns the adjacency list for all the nodes\"\"\"\n",
    "        return self.__adjacency_list"
   ]
  },
  {
   "cell_type": "markdown",
   "metadata": {},
   "source": [
    "This graph doesn't quite serve our purposes just yet"
   ]
  },
  {
   "cell_type": "markdown",
   "metadata": {},
   "source": [
    "From what I remember of what we decided, we wanted to be able to add one node (a paper) to the graph, then for every paper it referenced, at it to the graph"
   ]
  },
  {
   "cell_type": "markdown",
   "metadata": {},
   "source": [
    "The for each of the new nodes added, add their references (nodes) to the graph as well"
   ]
  },
  {
   "cell_type": "markdown",
   "metadata": {},
   "source": [
    "And then add _their_ references to the graph, until we get to some arbitrary distance (number of connections) from the original paper (node) than we added"
   ]
  },
  {
   "cell_type": "markdown",
   "metadata": {},
   "source": [
    "So the paper will contain some information: it will know what papers it references, but we also need a way to assign it a distance from the original paper"
   ]
  },
  {
   "cell_type": "markdown",
   "metadata": {},
   "source": [
    "So let's define a Paper class"
   ]
  },
  {
   "cell_type": "code",
   "execution_count": 17,
   "metadata": {},
   "outputs": [],
   "source": [
    "class Paper:\n",
    "\n",
    "    def __init__(self, references):\n",
    "        \"\"\"constructor to create a Paper,\n",
    "        it needs to know what it's references are\n",
    "        and it's distance from the original paper:\n",
    "        it's default will be 0 (each paper assumes it is the \n",
    "        original paper)\"\"\"\n",
    "        self.__refs = references\n",
    "        self.__dist = 0\n",
    "\n",
    "    def get_refs(self):\n",
    "        return self.__refs\n",
    "    \n",
    "    def get_dist(self):\n",
    "        return self.__dist\n",
    "    \n",
    "    def set_dist(self, distance):\n",
    "        self.__dist = distance"
   ]
  },
  {
   "cell_type": "markdown",
   "metadata": {},
   "source": [
    "# THE PAPER IS THE GRAPH"
   ]
  },
  {
   "cell_type": "markdown",
   "metadata": {},
   "source": [
    "what does that mean? Welllll a Paper is an inherenetly recursive object in the real world, it has references which are papers which have references which are papers... "
   ]
  },
  {
   "cell_type": "markdown",
   "metadata": {},
   "source": [
    "So the object that we create to represent a Paper needs to represent this property, however we need to add a base case (a depth at which we no longer care about the references)"
   ]
  },
  {
   "cell_type": "markdown",
   "metadata": {},
   "source": [
    "The real world has no recursion depth limits but python does"
   ]
  },
  {
   "cell_type": "markdown",
   "metadata": {},
   "source": [
    "So let's try again and create a different Paper class"
   ]
  },
  {
   "cell_type": "code",
   "execution_count": 203,
   "metadata": {},
   "outputs": [],
   "source": [
    "class Paper:\n",
    "\n",
    "    def __init__(self, name = 0, distance = 0):\n",
    "        self.__name = name\n",
    "        self.__distance = distance\n",
    "        self.__references = self.create_references()\n",
    "\n",
    "    def create_references(self):\n",
    "        # return an empty list if we have exceeded relevant depth\n",
    "        if self.get_distance() > 3:\n",
    "            return []\n",
    "        # otherwise, return a list of Paper objects\n",
    "        return [Paper(random.randint(1, 10) * n, self.get_distance() + 1) for n in range(6)]\n",
    "\n",
    "    def get_name(self):\n",
    "        return self.__name\n",
    "\n",
    "    def get_distance(self):\n",
    "        return self.__distance\n",
    "\n",
    "    def get_references(self):\n",
    "        return self.__references\n",
    "\n",
    "    def __repr__(self):\n",
    "        return f\"{self.get_name()}: {self.get_references()}\""
   ]
  },
  {
   "cell_type": "code",
   "execution_count": 204,
   "metadata": {},
   "outputs": [],
   "source": [
    "paper = Paper(0)"
   ]
  },
  {
   "cell_type": "code",
   "execution_count": 205,
   "metadata": {},
   "outputs": [
    {
     "data": {
      "text/plain": [
       "0: [0: [0: [0: [0: [], 1: [], 18: [], 24: [], 8: [], 20: []], 7: [0: [], 8: [], 8: [], 21: [], 24: [], 10: []], 20: [0: [], 7: [], 16: [], 12: [], 12: [], 40: []], 3: [0: [], 6: [], 14: [], 9: [], 8: [], 45: []], 28: [0: [], 3: [], 16: [], 24: [], 20: [], 40: []], 30: [0: [], 10: [], 8: [], 30: [], 20: [], 35: []]], 4: [0: [0: [], 6: [], 2: [], 24: [], 16: [], 10: []], 8: [0: [], 6: [], 18: [], 3: [], 12: [], 25: []], 8: [0: [], 8: [], 2: [], 6: [], 32: [], 25: []], 9: [0: [], 8: [], 8: [], 18: [], 40: [], 45: []], 40: [0: [], 1: [], 2: [], 18: [], 8: [], 30: []], 50: [0: [], 6: [], 16: [], 12: [], 36: [], 5: []]], 8: [0: [0: [], 2: [], 14: [], 9: [], 28: [], 25: []], 8: [0: [], 3: [], 12: [], 12: [], 36: [], 45: []], 12: [0: [], 7: [], 16: [], 6: [], 40: [], 40: []], 30: [0: [], 6: [], 16: [], 12: [], 40: [], 30: []], 4: [0: [], 7: [], 20: [], 15: [], 40: [], 35: []], 40: [0: [], 10: [], 8: [], 9: [], 24: [], 40: []]], 24: [0: [0: [], 4: [], 2: [], 18: [], 28: [], 40: []], 1: [0: [], 3: [], 12: [], 12: [], 40: [], 35: []], 4: [0: [], 2: [], 20: [], 30: [], 12: [], 25: []], 21: [0: [], 5: [], 16: [], 15: [], 8: [], 40: []], 40: [0: [], 3: [], 12: [], 9: [], 32: [], 40: []], 20: [0: [], 5: [], 10: [], 27: [], 24: [], 20: []]], 20: [0: [0: [], 8: [], 6: [], 15: [], 36: [], 20: []], 9: [0: [], 5: [], 20: [], 9: [], 4: [], 40: []], 16: [0: [], 8: [], 10: [], 6: [], 32: [], 50: []], 18: [0: [], 9: [], 10: [], 6: [], 12: [], 5: []], 28: [0: [], 2: [], 2: [], 21: [], 16: [], 10: []], 15: [0: [], 6: [], 16: [], 12: [], 12: [], 50: []]], 5: [0: [0: [], 7: [], 6: [], 27: [], 24: [], 40: []], 9: [0: [], 3: [], 18: [], 27: [], 4: [], 45: []], 2: [0: [], 6: [], 14: [], 18: [], 16: [], 50: []], 30: [0: [], 6: [], 20: [], 6: [], 20: [], 10: []], 8: [0: [], 9: [], 6: [], 6: [], 16: [], 30: []], 5: [0: [], 8: [], 20: [], 12: [], 12: [], 15: []]]], 5: [0: [0: [0: [], 9: [], 14: [], 6: [], 32: [], 20: []], 5: [0: [], 6: [], 10: [], 27: [], 32: [], 30: []], 2: [0: [], 6: [], 12: [], 12: [], 4: [], 5: []], 21: [0: [], 3: [], 8: [], 27: [], 40: [], 45: []], 8: [0: [], 5: [], 2: [], 6: [], 12: [], 25: []], 25: [0: [], 4: [], 16: [], 6: [], 40: [], 10: []]], 3: [0: [0: [], 5: [], 14: [], 15: [], 8: [], 50: []], 5: [0: [], 8: [], 16: [], 30: [], 12: [], 40: []], 12: [0: [], 2: [], 6: [], 27: [], 40: [], 35: []], 15: [0: [], 9: [], 10: [], 24: [], 16: [], 45: []], 32: [0: [], 1: [], 14: [], 6: [], 4: [], 45: []], 30: [0: [], 2: [], 20: [], 21: [], 40: [], 35: []]], 10: [0: [0: [], 10: [], 4: [], 18: [], 24: [], 45: []], 7: [0: [], 3: [], 18: [], 27: [], 32: [], 20: []], 20: [0: [], 5: [], 10: [], 30: [], 24: [], 45: []], 21: [0: [], 1: [], 6: [], 15: [], 16: [], 25: []], 32: [0: [], 4: [], 12: [], 12: [], 12: [], 20: []], 30: [0: [], 10: [], 6: [], 6: [], 16: [], 40: []]], 6: [0: [0: [], 7: [], 20: [], 30: [], 12: [], 50: []], 4: [0: [], 10: [], 14: [], 18: [], 8: [], 35: []], 20: [0: [], 8: [], 6: [], 15: [], 32: [], 10: []], 12: [0: [], 5: [], 12: [], 21: [], 24: [], 50: []], 40: [0: [], 6: [], 16: [], 27: [], 4: [], 15: []], 25: [0: [], 6: [], 14: [], 30: [], 4: [], 25: []]], 4: [0: [0: [], 9: [], 12: [], 30: [], 24: [], 15: []], 5: [0: [], 3: [], 4: [], 27: [], 20: [], 40: []], 10: [0: [], 2: [], 20: [], 30: [], 32: [], 45: []], 27: [0: [], 8: [], 18: [], 12: [], 36: [], 50: []], 24: [0: [], 1: [], 18: [], 24: [], 40: [], 25: []], 30: [0: [], 2: [], 10: [], 6: [], 32: [], 10: []]], 35: [0: [0: [], 5: [], 18: [], 27: [], 24: [], 20: []], 6: [0: [], 9: [], 20: [], 30: [], 28: [], 40: []], 4: [0: [], 8: [], 6: [], 3: [], 4: [], 10: []], 27: [0: [], 10: [], 10: [], 30: [], 24: [], 30: []], 36: [0: [], 6: [], 14: [], 3: [], 32: [], 50: []], 20: [0: [], 5: [], 18: [], 24: [], 4: [], 20: []]]], 18: [0: [0: [0: [], 8: [], 16: [], 18: [], 28: [], 30: []], 9: [0: [], 2: [], 2: [], 18: [], 24: [], 15: []], 6: [0: [], 4: [], 4: [], 3: [], 24: [], 50: []], 27: [0: [], 2: [], 12: [], 6: [], 24: [], 15: []], 12: [0: [], 10: [], 14: [], 3: [], 40: [], 45: []], 15: [0: [], 4: [], 12: [], 18: [], 28: [], 50: []]], 6: [0: [0: [], 2: [], 4: [], 18: [], 36: [], 20: []], 1: [0: [], 3: [], 16: [], 9: [], 40: [], 30: []], 2: [0: [], 1: [], 4: [], 3: [], 20: [], 40: []], 6: [0: [], 5: [], 8: [], 30: [], 40: [], 15: []], 20: [0: [], 7: [], 14: [], 3: [], 36: [], 25: []], 5: [0: [], 6: [], 14: [], 9: [], 36: [], 10: []]], 10: [0: [0: [], 6: [], 10: [], 18: [], 12: [], 15: []], 4: [0: [], 10: [], 14: [], 18: [], 12: [], 45: []], 8: [0: [], 9: [], 4: [], 24: [], 20: [], 45: []], 9: [0: [], 8: [], 16: [], 15: [], 12: [], 5: []], 16: [0: [], 7: [], 6: [], 9: [], 4: [], 35: []], 5: [0: [], 5: [], 8: [], 6: [], 40: [], 15: []]], 30: [0: [0: [], 4: [], 4: [], 6: [], 20: [], 50: []], 1: [0: [], 8: [], 10: [], 6: [], 32: [], 35: []], 2: [0: [], 4: [], 20: [], 3: [], 36: [], 5: []], 30: [0: [], 9: [], 8: [], 18: [], 28: [], 15: []], 4: [0: [], 4: [], 16: [], 12: [], 12: [], 30: []], 5: [0: [], 5: [], 14: [], 18: [], 40: [], 10: []]], 28: [0: [0: [], 1: [], 10: [], 9: [], 28: [], 35: []], 8: [0: [], 6: [], 4: [], 9: [], 16: [], 20: []], 2: [0: [], 6: [], 20: [], 9: [], 20: [], 5: []], 9: [0: [], 3: [], 8: [], 24: [], 28: [], 10: []], 32: [0: [], 6: [], 8: [], 18: [], 16: [], 35: []], 25: [0: [], 3: [], 20: [], 6: [], 20: [], 10: []]], 35: [0: [0: [], 5: [], 10: [], 27: [], 8: [], 25: []], 9: [0: [], 5: [], 2: [], 24: [], 16: [], 5: []], 6: [0: [], 9: [], 10: [], 27: [], 36: [], 40: []], 12: [0: [], 10: [], 14: [], 6: [], 16: [], 25: []], 32: [0: [], 4: [], 12: [], 6: [], 4: [], 45: []], 25: [0: [], 1: [], 10: [], 6: [], 24: [], 30: []]]], 6: [0: [0: [0: [], 1: [], 4: [], 6: [], 8: [], 30: []], 5: [0: [], 2: [], 16: [], 30: [], 4: [], 35: []], 6: [0: [], 4: [], 14: [], 24: [], 36: [], 35: []], 30: [0: [], 9: [], 4: [], 12: [], 4: [], 5: []], 16: [0: [], 10: [], 8: [], 21: [], 24: [], 35: []], 10: [0: [], 5: [], 18: [], 27: [], 4: [], 10: []]], 10: [0: [0: [], 5: [], 8: [], 12: [], 40: [], 25: []], 9: [0: [], 7: [], 18: [], 12: [], 20: [], 30: []], 10: [0: [], 8: [], 6: [], 21: [], 16: [], 30: []], 6: [0: [], 3: [], 14: [], 27: [], 8: [], 35: []], 40: [0: [], 6: [], 8: [], 15: [], 8: [], 40: []], 5: [0: [], 8: [], 4: [], 12: [], 8: [], 15: []]], 4: [0: [0: [], 6: [], 14: [], 9: [], 16: [], 50: []], 7: [0: [], 7: [], 6: [], 24: [], 4: [], 30: []], 6: [0: [], 5: [], 10: [], 6: [], 4: [], 10: []], 12: [0: [], 7: [], 16: [], 6: [], 36: [], 40: []], 24: [0: [], 6: [], 6: [], 6: [], 24: [], 40: []], 25: [0: [], 2: [], 10: [], 21: [], 24: [], 5: []]], 18: [0: [0: [], 5: [], 20: [], 24: [], 12: [], 50: []], 10: [0: [], 9: [], 16: [], 21: [], 16: [], 15: []], 16: [0: [], 9: [], 2: [], 9: [], 12: [], 40: []], 27: [0: [], 6: [], 4: [], 12: [], 8: [], 20: []], 32: [0: [], 9: [], 8: [], 12: [], 36: [], 35: []], 15: [0: [], 10: [], 20: [], 30: [], 24: [], 30: []]], 12: [0: [0: [], 8: [], 10: [], 9: [], 12: [], 50: []], 9: [0: [], 6: [], 4: [], 21: [], 12: [], 30: []], 16: [0: [], 5: [], 20: [], 24: [], 24: [], 45: []], 24: [0: [], 4: [], 4: [], 18: [], 28: [], 30: []], 28: [0: [], 2: [], 20: [], 30: [], 12: [], 40: []], 40: [0: [], 2: [], 6: [], 21: [], 20: [], 30: []]], 20: [0: [0: [], 6: [], 6: [], 6: [], 8: [], 30: []], 7: [0: [], 6: [], 18: [], 18: [], 12: [], 35: []], 8: [0: [], 8: [], 8: [], 9: [], 12: [], 40: []], 30: [0: [], 10: [], 16: [], 21: [], 12: [], 10: []], 20: [0: [], 1: [], 6: [], 6: [], 36: [], 35: []], 30: [0: [], 8: [], 12: [], 21: [], 8: [], 50: []]]], 20: [0: [0: [0: [], 10: [], 12: [], 6: [], 40: [], 5: []], 3: [0: [], 1: [], 10: [], 27: [], 4: [], 25: []], 2: [0: [], 6: [], 14: [], 6: [], 28: [], 40: []], 15: [0: [], 3: [], 14: [], 27: [], 32: [], 35: []], 12: [0: [], 7: [], 12: [], 3: [], 12: [], 25: []], 45: [0: [], 3: [], 10: [], 6: [], 12: [], 5: []]], 3: [0: [0: [], 7: [], 6: [], 27: [], 12: [], 30: []], 8: [0: [], 1: [], 10: [], 21: [], 4: [], 25: []], 20: [0: [], 3: [], 18: [], 21: [], 32: [], 20: []], 3: [0: [], 3: [], 10: [], 30: [], 24: [], 35: []], 36: [0: [], 5: [], 14: [], 21: [], 4: [], 40: []], 50: [0: [], 8: [], 12: [], 6: [], 24: [], 15: []]], 2: [0: [0: [], 4: [], 10: [], 6: [], 36: [], 25: []], 9: [0: [], 7: [], 16: [], 3: [], 20: [], 40: []], 16: [0: [], 9: [], 6: [], 15: [], 16: [], 45: []], 15: [0: [], 4: [], 16: [], 24: [], 8: [], 20: []], 40: [0: [], 1: [], 6: [], 6: [], 40: [], 15: []], 15: [0: [], 9: [], 10: [], 15: [], 12: [], 45: []]], 9: [0: [0: [], 2: [], 4: [], 18: [], 4: [], 50: []], 3: [0: [], 1: [], 2: [], 18: [], 20: [], 25: []], 8: [0: [], 3: [], 12: [], 24: [], 8: [], 35: []], 30: [0: [], 7: [], 16: [], 6: [], 16: [], 15: []], 36: [0: [], 1: [], 20: [], 9: [], 12: [], 25: []], 35: [0: [], 2: [], 2: [], 9: [], 40: [], 35: []]], 24: [0: [0: [], 3: [], 2: [], 21: [], 24: [], 15: []], 3: [0: [], 5: [], 20: [], 24: [], 4: [], 30: []], 10: [0: [], 9: [], 4: [], 6: [], 20: [], 45: []], 15: [0: [], 10: [], 8: [], 15: [], 20: [], 20: []], 36: [0: [], 8: [], 4: [], 21: [], 40: [], 35: []], 30: [0: [], 10: [], 8: [], 12: [], 32: [], 25: []]], 35: [0: [0: [], 8: [], 10: [], 12: [], 20: [], 45: []], 2: [0: [], 10: [], 10: [], 3: [], 20: [], 5: []], 4: [0: [], 2: [], 4: [], 24: [], 40: [], 35: []], 18: [0: [], 3: [], 20: [], 24: [], 20: [], 5: []], 36: [0: [], 5: [], 16: [], 12: [], 20: [], 30: []], 35: [0: [], 4: [], 16: [], 6: [], 32: [], 40: []]]], 15: [0: [0: [0: [], 10: [], 2: [], 18: [], 8: [], 5: []], 4: [0: [], 2: [], 20: [], 15: [], 24: [], 40: []], 8: [0: [], 4: [], 10: [], 6: [], 36: [], 40: []], 30: [0: [], 8: [], 12: [], 21: [], 28: [], 40: []], 8: [0: [], 3: [], 8: [], 24: [], 28: [], 45: []], 35: [0: [], 2: [], 18: [], 3: [], 32: [], 15: []]], 6: [0: [0: [], 7: [], 14: [], 21: [], 12: [], 20: []], 9: [0: [], 9: [], 10: [], 21: [], 4: [], 30: []], 14: [0: [], 2: [], 20: [], 27: [], 4: [], 45: []], 9: [0: [], 9: [], 12: [], 27: [], 28: [], 5: []], 40: [0: [], 1: [], 12: [], 15: [], 12: [], 25: []], 40: [0: [], 2: [], 2: [], 12: [], 24: [], 10: []]], 16: [0: [0: [], 10: [], 12: [], 30: [], 20: [], 25: []], 3: [0: [], 4: [], 2: [], 12: [], 40: [], 45: []], 6: [0: [], 8: [], 16: [], 3: [], 12: [], 10: []], 12: [0: [], 2: [], 14: [], 15: [], 12: [], 50: []], 16: [0: [], 1: [], 10: [], 21: [], 28: [], 50: []], 20: [0: [], 5: [], 10: [], 3: [], 36: [], 25: []]], 3: [0: [0: [], 6: [], 8: [], 27: [], 24: [], 30: []], 6: [0: [], 6: [], 14: [], 15: [], 28: [], 45: []], 4: [0: [], 4: [], 2: [], 15: [], 36: [], 45: []], 18: [0: [], 8: [], 2: [], 12: [], 32: [], 15: []], 12: [0: [], 4: [], 8: [], 27: [], 12: [], 20: []], 25: [0: [], 3: [], 12: [], 27: [], 36: [], 10: []]], 4: [0: [0: [], 10: [], 20: [], 18: [], 8: [], 20: []], 7: [0: [], 7: [], 18: [], 24: [], 24: [], 20: []], 8: [0: [], 9: [], 20: [], 15: [], 16: [], 50: []], 21: [0: [], 1: [], 6: [], 24: [], 36: [], 30: []], 20: [0: [], 2: [], 6: [], 30: [], 20: [], 30: []], 25: [0: [], 4: [], 16: [], 27: [], 12: [], 15: []]], 10: [0: [0: [], 3: [], 4: [], 15: [], 36: [], 25: []], 4: [0: [], 4: [], 20: [], 15: [], 20: [], 25: []], 12: [0: [], 3: [], 6: [], 21: [], 16: [], 20: []], 30: [0: [], 5: [], 8: [], 6: [], 36: [], 45: []], 40: [0: [], 3: [], 10: [], 27: [], 12: [], 25: []], 10: [0: [], 8: [], 14: [], 27: [], 4: [], 50: []]]]]"
      ]
     },
     "execution_count": 205,
     "metadata": {},
     "output_type": "execute_result"
    }
   ],
   "source": [
    "paper"
   ]
  },
  {
   "cell_type": "code",
   "execution_count": null,
   "metadata": {},
   "outputs": [],
   "source": []
  }
 ],
 "metadata": {
  "kernelspec": {
   "display_name": "alg-ass-group",
   "language": "python",
   "name": "python3"
  },
  "language_info": {
   "codemirror_mode": {
    "name": "ipython",
    "version": 3
   },
   "file_extension": ".py",
   "mimetype": "text/x-python",
   "name": "python",
   "nbconvert_exporter": "python",
   "pygments_lexer": "ipython3",
   "version": "3.11.8"
  }
 },
 "nbformat": 4,
 "nbformat_minor": 2
}
